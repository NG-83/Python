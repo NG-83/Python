{
 "cells": [
  {
   "cell_type": "markdown",
   "metadata": {
    "colab_type": "text",
    "id": "view-in-github"
   },
   "source": [
    "<a href=\"https://colab.research.google.com/github/NG-83/Python/blob/main/%D0%9A%D0%BE%D0%BF%D0%B8%D1%8F_%D0%B1%D0%BB%D0%BE%D0%BA%D0%BD%D0%BE%D1%82%D0%B0_%22python_intro_ipynb%22.ipynb\" target=\"_parent\"><img src=\"https://colab.research.google.com/assets/colab-badge.svg\" alt=\"Open In Colab\"/></a>"
   ]
  },
  {
   "cell_type": "markdown",
   "metadata": {
    "id": "1LEG84j7Irhq"
   },
   "source": [
    "сперва лучше заглянуть в [перезентацию](https://github.com/nstsj/python_for_CL/blob/master/class1/dpo_1.pdf)\n",
    "\n",
    "**Начинаем кодить:**\n",
    "\n",
    "*the simplest way:* питон можно использовать как калькулятор"
   ]
  },
  {
   "cell_type": "code",
   "execution_count": null,
   "metadata": {
    "colab": {
     "base_uri": "https://localhost:8080/",
     "height": 35
    },
    "id": "REcpQZl4IrHg",
    "outputId": "642ac894-eead-418e-f5f5-82dd58ba8879"
   },
   "outputs": [],
   "source": [
    "2+3 # запустите эту ячейку"
   ]
  },
  {
   "cell_type": "markdown",
   "metadata": {
    "id": "HhAroFDdJZQM"
   },
   "source": [
    "## основные операции с числами \n",
    "*(попробуйте сделать их в ячейке с кодом, подставляя вместо **x** и **y** какие-нибудь числа. Порядок операций можно задавать скобочками)*\n",
    "\n",
    "x + y\tСложение\n",
    "\n",
    "x - y\tВычитание\n",
    "\n",
    "x * y\tУмножение\n",
    "\n",
    "x / y\tДеление\n",
    "\n",
    "x // y\tПолучение целой части от деления\n",
    "\n",
    "x % y\tОстаток от деления\n",
    "\n",
    "-x\tСмена знака числа\n",
    "\n",
    "abs(x)\tМодуль числа\n",
    "\n",
    "x ** y\tВозведение в степень\n",
    "\n",
    "### сравнение:\n",
    "== \"равно\" x == y (*x* равен *y*)\n",
    "\n",
    "!= \"не равно\" x != y (*x* не равен *y*)\n",
    "\n",
    "\\> \"меньше\"\n",
    "\n",
    "< \"больше\"\n",
    "\n",
    "\\>= \"меньше или равно\"\n",
    "\n",
    "<= \"больше или равно\"\n",
    "\n",
    "\n",
    "\n",
    "\n",
    "\n"
   ]
  },
  {
   "cell_type": "code",
   "execution_count": null,
   "metadata": {
    "id": "hsnm33_HFuP2"
   },
   "outputs": [],
   "source": []
  },
  {
   "cell_type": "markdown",
   "metadata": {
    "id": "6qzsLpHLipvD"
   },
   "source": []
  },
  {
   "cell_type": "markdown",
   "metadata": {
    "id": "xUogetUriqOB"
   },
   "source": []
  },
  {
   "cell_type": "code",
   "execution_count": null,
   "metadata": {
    "id": "ONtfI94Diqfy"
   },
   "outputs": [],
   "source": []
  },
  {
   "cell_type": "code",
   "execution_count": null,
   "metadata": {
    "colab": {
     "base_uri": "https://localhost:8080/",
     "height": 130
    },
    "id": "ciLObZSYKPxP",
    "outputId": "55c89985-40f2-4b3b-925e-cb0b8b780508"
   },
   "outputs": [],
   "source": [
    "# пример\n",
    "# (22+10)/3-15%2\n",
    "# в каком порядке выполняются операции?"
   ]
  },
  {
   "cell_type": "code",
   "execution_count": null,
   "metadata": {
    "id": "8gQ-_M-V5rue"
   },
   "outputs": [],
   "source": [
    "# придумайте ваш пример в этой ячейке и запустите ее\n"
   ]
  },
  {
   "cell_type": "markdown",
   "metadata": {
    "id": "-bebyG-eMdbU"
   },
   "source": [
    "Порой для вычислений нам нужно сохранить результат. Для этого есть **переменные**. Переменные хранят ваши данные, мы *присваиваем им значение* через знак = "
   ]
  },
  {
   "cell_type": "code",
   "execution_count": null,
   "metadata": {
    "colab": {
     "base_uri": "https://localhost:8080/",
     "height": 34
    },
    "id": "DmQ4xiw_M-6o",
    "outputId": "44f033ee-a812-47dd-d6bb-e41756e9c4ad"
   },
   "outputs": [],
   "source": [
    "a = 5 \n",
    "# мы создали переменную а и присвоили ей значение 5\n",
    "\n",
    "type(a)"
   ]
  },
  {
   "cell_type": "markdown",
   "metadata": {
    "id": "bxWvxaPkNiyK"
   },
   "source": [
    "Переменные бывают разных типов, мы сегодня поговорим о числах и строках.\n",
    "\n",
    "* Переменные с типом \"строка\" обозначаются как str(сокращение от string)\n",
    "\n",
    "* Числовые переменные делятся на два подтипа:\n",
    "** int для целых чисел (45)\n",
    "** float для дробных (45.821)\n",
    "\n",
    "Проверить тип переменной можно с помощью функции ```type()```\n",
    "где в скобках будет ваша переменная"
   ]
  },
  {
   "cell_type": "code",
   "execution_count": null,
   "metadata": {
    "colab": {
     "base_uri": "https://localhost:8080/",
     "height": 34
    },
    "id": "IW5RJqr5NJZH",
    "outputId": "d2ad5c91-db96-4ebc-e565-21bd63712b55"
   },
   "outputs": [],
   "source": [
    "# создаем переменную, присваиваем значение\n",
    "var = 23\n",
    "type(var) #проверяем ее тип"
   ]
  },
  {
   "cell_type": "code",
   "execution_count": null,
   "metadata": {
    "colab": {
     "base_uri": "https://localhost:8080/",
     "height": 34
    },
    "id": "ipx5qLQBZbP2",
    "outputId": "e041d122-9f5b-4fc8-9757-a134610ba483"
   },
   "outputs": [],
   "source": [
    "var = \"hello\"\n",
    "type(var)"
   ]
  },
  {
   "cell_type": "markdown",
   "metadata": {
    "id": "DcCeZI-DJev6"
   },
   "source": [
    "Если Вы работаете в PyCharm, то без функции \n",
    "```print()``` \n",
    "ваши команды не выведутся на печать (только исполнятся внутри интерпретатора). Если код срабатывает без ошибок, но результат не появляется, напишите \n",
    "```print()```, и поместите в скобки то, что хотите вывести на печать (это может быть переменная или функция)"
   ]
  },
  {
   "cell_type": "code",
   "execution_count": null,
   "metadata": {
    "colab": {
     "base_uri": "https://localhost:8080/",
     "height": 51
    },
    "id": "kDPMBijnKTpn",
    "outputId": "f36ddda9-ee8d-4ea0-bb0d-369e1f4ff7db"
   },
   "outputs": [],
   "source": [
    "# print(var) #выводим на печать значение, присвоенное переменной var\n",
    "print(\"hello\") # выводим на печать функцию, которая покажет тип переменной var\n",
    "var = 4\n",
    "print(var**8)"
   ]
  },
  {
   "cell_type": "code",
   "execution_count": null,
   "metadata": {
    "colab": {
     "background_save": true,
     "base_uri": "https://localhost:8080/",
     "height": 34
    },
    "id": "4-NMOS-qP6qj",
    "outputId": "9526d9a9-4f25-45d6-c0b3-f5a1332caec6"
   },
   "outputs": [],
   "source": [
    "# создадим другую переменную, с другим типом\n",
    "var2 = 34.09\n",
    "type(var2) # проверяем тип"
   ]
  },
  {
   "cell_type": "code",
   "execution_count": null,
   "metadata": {
    "colab": {
     "base_uri": "https://localhost:8080/",
     "height": 34
    },
    "id": "SmfB-RrmQRmA",
    "outputId": "5af4fccb-0c38-4a50-e764-896629977544"
   },
   "outputs": [],
   "source": [
    "# создадим третью, с другим типом\n",
    "var3 = \"meow\" # не забудьте, что строки пишутся в кавычках, двойных или одинарных\n",
    "type(var3) # проверяем тип"
   ]
  },
  {
   "cell_type": "markdown",
   "metadata": {
    "id": "42TDggDRQ-17"
   },
   "source": [
    "## операции с переменными"
   ]
  },
  {
   "cell_type": "markdown",
   "metadata": {
    "id": "2l7GbBdrRCpQ"
   },
   "source": [
    "с числовыми переменными можно делать все то, что мы делали с числами в первых ячейках (складывать, умножать, возводить в степень и тд)"
   ]
  },
  {
   "cell_type": "code",
   "execution_count": null,
   "metadata": {
    "colab": {
     "base_uri": "https://localhost:8080/",
     "height": 34
    },
    "id": "ifWeiU9qQrGv",
    "outputId": "ce1847c7-18a2-4397-d97d-591b01c120d1"
   },
   "outputs": [],
   "source": [
    "var+var2 #сложили первую и вторую переменную, т.к. они числовые\n"
   ]
  },
  {
   "cell_type": "code",
   "execution_count": null,
   "metadata": {
    "colab": {
     "base_uri": "https://localhost:8080/",
     "height": 199
    },
    "id": "uUKbO1o9RO7W",
    "outputId": "919986bb-e5ad-4fe5-e390-1399e59cf675"
   },
   "outputs": [],
   "source": [
    "var2+var3 \n",
    "# а здесь появляется ошибка, т.к. мы не можем складывать и вычитать и делить переменные разных типов (строку и число)"
   ]
  },
  {
   "cell_type": "code",
   "execution_count": null,
   "metadata": {
    "colab": {
     "base_uri": "https://localhost:8080/",
     "height": 34
    },
    "id": "tnnAVXp7RZdU",
    "outputId": "5fc949b9-63bb-4fe7-949c-d3eaeb9e829f"
   },
   "outputs": [],
   "source": [
    "var*var3 #однако мы можем умножать строку на число (или на переменную, в которую сохранили число)\n",
    "#  мы умножили строку \"meow\" на число 23, таким образом у нас появилась новая длинная строка, где meow повторяется 23 раза"
   ]
  },
  {
   "cell_type": "markdown",
   "metadata": {
    "id": "Oq-CCBxXSQRq"
   },
   "source": [
    "Также мы можем пересохранять значения переменных"
   ]
  },
  {
   "cell_type": "code",
   "execution_count": null,
   "metadata": {
    "colab": {
     "base_uri": "https://localhost:8080/",
     "height": 67
    },
    "id": "gIowVTmkRvNN",
    "outputId": "431d9566-ad08-44d0-ff80-c1ba06e97946"
   },
   "outputs": [],
   "source": [
    "print(var) #функция print выводит на печать то, что мы запишем в ее скобках, у нас - переменная со значением 23\n",
    "var = 2 # сохранили новое значение в уже существующую переменную var\n",
    "print(var)\n",
    "var = var * 10 # пересохраняем новое значение, которое равно старому, умноженному на 10\n",
    "print(var) "
   ]
  },
  {
   "cell_type": "markdown",
   "metadata": {
    "id": "0g9Cl4u9TKSy"
   },
   "source": [
    "пересохранения переменных - это удобно, но будьте осторожны, когда мы придем к теме циклов, там этим лучше не злоупотреблять"
   ]
  },
  {
   "cell_type": "markdown",
   "metadata": {
    "id": "fw01ApX0TW1I"
   },
   "source": [
    "### операции со строками"
   ]
  },
  {
   "cell_type": "markdown",
   "metadata": {
    "id": "8fTwOArLUf98"
   },
   "source": [
    "1. строки можно *конкатенировать*, присоединять друг к другу"
   ]
  },
  {
   "cell_type": "code",
   "execution_count": null,
   "metadata": {
    "colab": {
     "base_uri": "https://localhost:8080/",
     "height": 50
    },
    "id": "SdSIkKdkUJQv",
    "outputId": "9923d85d-329f-46d7-fc26-75d45063f423"
   },
   "outputs": [],
   "source": [
    "line1 = \"я позвал в кино \" # создали первую переменную\n",
    "line2 = \"этих людей \" # создали вторую\n",
    "\n",
    "concat = line2+line1 # новая переменная, в нее сохраним результат конкатенации первых двух переменных\n",
    "another_concat = line1+line2 # а это еще одна, мы снова конкатенируем, но в обратном порядке (!)\n",
    "\n",
    "# результаты! \n",
    "print(concat)\n",
    "print(another_concat)"
   ]
  },
  {
   "cell_type": "markdown",
   "metadata": {
    "id": "buh_mnAJQYNm"
   },
   "source": [
    "2. Выясняем длину строки функцией ```len()```"
   ]
  },
  {
   "cell_type": "code",
   "execution_count": null,
   "metadata": {
    "colab": {
     "base_uri": "https://localhost:8080/",
     "height": 34
    },
    "id": "SHgz476lUotP",
    "outputId": "ea08e542-8dc5-43c3-dbe5-be5f4e4ab74f"
   },
   "outputs": [],
   "source": [
    "len(line1)"
   ]
  },
  {
   "cell_type": "markdown",
   "metadata": {
    "id": "HxmBxkhjQs2c"
   },
   "source": [
    "3. Дублирование строки (умножение на число)"
   ]
  },
  {
   "cell_type": "code",
   "execution_count": null,
   "metadata": {
    "colab": {
     "base_uri": "https://localhost:8080/",
     "height": 67
    },
    "id": "m_xIrYROWiL1",
    "outputId": "7e9a594f-6a69-4694-95a6-ed4d991bb134"
   },
   "outputs": [],
   "source": [
    "# можно просто задав условия (строку и количество раз для повторения) в print()\n",
    "print(\"добрый вечер \"*2)\n",
    "\n",
    "# можно то же самое, но сохранив строку в переменную\n",
    "line1 = \"привет \"\n",
    "print(line1*4)\n",
    "\n",
    "# можно - сохранив все в переменные\n",
    "line1 = \"ну как дела \"\n",
    "count = 3\n",
    "result = line1*count #здесь мы умножили строку на число и сохранили результат в переменную result\n",
    "print(result)"
   ]
  },
  {
   "cell_type": "markdown",
   "metadata": {
    "id": "ZDFrEi4BS1uS"
   },
   "source": [
    "4. доступ по индексу"
   ]
  },
  {
   "cell_type": "markdown",
   "metadata": {
    "id": "EqntstwwTdJY"
   },
   "source": [
    "строка  - это *итерируемый* объект (мы можем пройтись по каждому из его элементов). Мы можем работать с элементами строки. Для этого нам понадобятся **индексы**, номерá элемента. Индекс записывается в квадратных скобках [ ]\n",
    "\n",
    "**!!** нумерация элементов начинается с 0, т.е. первый элемент имеет индекс [0]. \n",
    "\n",
    "Легкое правило запоминания - индекс всегда на 1 меньше чем настоящий номер элемента"
   ]
  },
  {
   "cell_type": "code",
   "execution_count": null,
   "metadata": {
    "colab": {
     "base_uri": "https://localhost:8080/",
     "height": 67
    },
    "id": "0OJxvs76ShbX",
    "outputId": "bd2e7766-8afe-43a6-ba5a-474c90a56aa1"
   },
   "outputs": [],
   "source": [
    "new = \"психолингвистика\"\n",
    "print(new[0]) # хотим напечатать первый элемент в сторке\n",
    "print(new[3]) # печатаем 4й элемент\n",
    "print(new[-1])# хотим последний элемент, он же первый с конца"
   ]
  },
  {
   "cell_type": "markdown",
   "metadata": {
    "id": "Cl_z5o96Tnu3"
   },
   "source": [
    "    4.1. Извлечение среза"
   ]
  },
  {
   "cell_type": "markdown",
   "metadata": {
    "id": "Bvte7ersT5SL"
   },
   "source": [
    "Иногда вам может понадобиться не вся последовательность элементов, а какой-то ее кусочек. Такой кусочек называниется **срез** (англ. slice)\n",
    "\n",
    "Оператор извлечения среза: [x:y], гдк **x** – начало среза, а **y** – окончание;\n",
    "\n",
    "Обратите внимание, что символ с номером **y** в срез не входит.\n",
    "\n",
    "По умолчанию первый индекс равен 0, а второй - длине строки."
   ]
  },
  {
   "cell_type": "code",
   "execution_count": null,
   "metadata": {
    "colab": {
     "base_uri": "https://localhost:8080/",
     "height": 118
    },
    "id": "mzoXiBl3ROmr",
    "outputId": "78b07b28-beae-4166-dee2-d7ae8b5cee5c"
   },
   "outputs": [],
   "source": [
    "print(new) # сначала напечатаем строку целиком\n",
    "\n",
    "print(new[2:5]) #а теперь напечатаем элементы строки, с третьего по шестой\n",
    "\n",
    "#можем сохранить слайс/срез в новую переменную\n",
    "piece = new[5:-1] # сохраним элементы с шестого до последнего\n",
    "print(piece) # давайте напечатаем сохраненное на предыдущем шаге\n",
    "\n",
    "print(new[:3]) # напечатаетм слайс/срез элементов с первого до четвертого, четвертый не включая\n",
    "\n",
    "print(new[3:]) # напечатаетм слайс/срез элементов с четвертого и до конца\n",
    "\n",
    "print(new[:]) # напечатаетм слайс/срез элементов, но так как они не заданы, они берутся по дефолту - первый и последний\n"
   ]
  },
  {
   "cell_type": "markdown",
   "metadata": {
    "id": "NkDrPfvMY-4n"
   },
   "source": [
    "    4.2. можно задать шаг, с которым нужно извлекать срез/слайс. Шаг обозначается третьим в квадратных скобках\n",
    "    [начало:конец:шаг]"
   ]
  },
  {
   "cell_type": "code",
   "execution_count": null,
   "metadata": {
    "colab": {
     "base_uri": "https://localhost:8080/",
     "height": 67
    },
    "id": "z7QXqW56U5DY",
    "outputId": "ea79158f-6ab7-4669-94e6-9ad2c2ab1bab"
   },
   "outputs": [],
   "source": [
    "# напечатаем строку с первого до последнего элемента(т.к. индексы не заданы), но шаг в обратном порядке\n",
    "print(new[::-1]) \n",
    "\n",
    "# с первого до последнего элемента(т.к. индексы не заданы), шаг в прямом порядке, через три\n",
    "print(new[::3])\n",
    "\n",
    "# напечатаем строку с третьего до последнего элемента(т.к. индексы не заданы), но шаг в обратном порядке\n",
    "print(new[2::-1]) \n"
   ]
  },
  {
   "cell_type": "markdown",
   "metadata": {
    "id": "ysvxBvcbceB-"
   },
   "source": [
    "Мы можем работать с элементами строк:"
   ]
  },
  {
   "cell_type": "code",
   "execution_count": null,
   "metadata": {
    "id": "NYRoF15SgGCD"
   },
   "outputs": [],
   "source": [
    "test = \"подоконник\""
   ]
  },
  {
   "cell_type": "code",
   "execution_count": null,
   "metadata": {
    "colab": {
     "base_uri": "https://localhost:8080/",
     "height": 84
    },
    "id": "WrIv_xJJZWaD",
    "outputId": "670864e5-5881-45c0-aa21-603d21ec0e95"
   },
   "outputs": [],
   "source": [
    "print (test) # посмотрим на изначальное слово\n",
    "print(test[:2]) # напечатаем срез/слайс из 1 и 2 элементов (технически, это с 1 по 3, 3 не включая) \n",
    "print(test[-3:-1]) # напечатаем срез/слайс элементов с последнего до третьего с конца\n",
    "test = test[:2]+test[-3:-1] # конкатенируем их, (пере)сохраним в переменную\n",
    "print(test) # печатаем значение переменной\n",
    "\n",
    "\n",
    "# позапускайте ячейку несколько раз. Попробуйте объяснить, что происходит с результатами :)"
   ]
  },
  {
   "cell_type": "markdown",
   "metadata": {
    "id": "7rPhjc3TkzAK"
   },
   "source": [
    "# дополнительное\n",
    "    мы об этом не говорили, но вот, что еще можно делать со строками:"
   ]
  },
  {
   "cell_type": "markdown",
   "metadata": {
    "id": "M2hZQ1HBiggQ"
   },
   "source": [
    "5. делим строку методом ```split()```"
   ]
  },
  {
   "cell_type": "code",
   "execution_count": 1,
   "metadata": {
    "colab": {
     "base_uri": "https://localhost:8080/",
     "height": 50
    },
    "id": "Wg40Dr7FioYU",
    "outputId": "7a372da7-6964-4e13-b8c4-a145a3503a11"
   },
   "outputs": [
    {
     "name": "stdout",
     "output_type": "stream",
     "text": [
      "['Mr', 'Johnson,', 'you', 'never', 'stay', 'in', 'Paris,', 'do', 'you?']\n",
      "['Mr Johnson', ' you never stay in Paris', ' do you?']\n"
     ]
    }
   ],
   "source": [
    "x = \"Mr Johnson, you never stay in Paris, do you?\"\n",
    "print(x.split()) # если в скобках не задан разделитель, то разбивает по пробелам\n",
    "print(x.split(',')) # сделаем разделителем запятую\n",
    "\n",
    "# в результате получается список! Мы поговорим о списках на следующем занятии"
   ]
  },
  {
   "cell_type": "markdown",
   "metadata": {
    "id": "aDSn1_Etio1D"
   },
   "source": [
    "6. меняем регистр"
   ]
  },
  {
   "cell_type": "code",
   "execution_count": null,
   "metadata": {
    "colab": {
     "base_uri": "https://localhost:8080/",
     "height": 101
    },
    "id": "c3kajVnRir_d",
    "outputId": "21786a91-c899-4b2e-dafe-dda0552ef84e"
   },
   "outputs": [],
   "source": [
    "x = \"Mr Johnson, do you live in London?\"\n",
    "print(x.upper()) # Преобразование строки к верхнему регистру\n",
    "print(x.lower()) # Преобразование строки к нижнему регистру\n",
    "print(x.capitalize()) # Переводит первый символ строки в верхний регистр, а все остальные в нижний\n",
    "print(x.swapcase()) # Переводит символы нижнего регистра в верхний, а верхнего – в нижний\n",
    "print(x.title()) # Первую букву каждого слова переводит в верхний регистр, а все остальные в нижний"
   ]
  },
  {
   "cell_type": "markdown",
   "metadata": {
    "id": "rSwv6T6Ris-l"
   },
   "source": [
    "7. удаляем пробельные символы"
   ]
  },
  {
   "cell_type": "code",
   "execution_count": null,
   "metadata": {
    "colab": {
     "base_uri": "https://localhost:8080/",
     "height": 67
    },
    "id": "a6jDthG9jPTy",
    "outputId": "667b527b-49eb-4187-e743-956e1c9ff571"
   },
   "outputs": [],
   "source": [
    "x = \"    В этой строке было слишком много пробелов    \"\n",
    "print(x.lstrip())\t# Удаление пробельных символов в начале строки\n",
    "print(x.rstrip())\t# Удаление пробельных символов в конце строки\n",
    "print(x.strip())\t# Удаление пробельных символов в начале и в конце строки\n"
   ]
  },
  {
   "cell_type": "markdown",
   "metadata": {
    "id": "7wxgzAQPi6qN"
   },
   "source": [
    "8. состоит ли строка из.. (каждый из методов возвращает True или False, в зависимости оттого, выполняется ли условие)"
   ]
  },
  {
   "cell_type": "code",
   "execution_count": null,
   "metadata": {
    "colab": {
     "base_uri": "https://localhost:8080/",
     "height": 134
    },
    "id": "PMt4DJcFi6Kn",
    "outputId": "1a4f5944-bda5-4088-ba7f-b5db9be65158"
   },
   "outputs": [],
   "source": [
    "x = \"Hello\"\n",
    "print(x.isdigit())\t# Состоит ли строка из цифр\n",
    "print(x.isalpha())\t# Состоит ли строка из букв\n",
    "print(x.isalnum())\t# Состоит ли строка из цифр или букв\n",
    "print(x.islower())\t# Состоит ли строка из символов в нижнем регистре\n",
    "print(x.isupper())\t# Состоит ли строка из символов в верхнем регистре\n",
    "print(x.isspace())\t# Состоит ли строка из неотображаемых символов (пробел, символ перевода страницы ('\\f'), \"новая строка\" ('\\n'), \"перевод каретки\" ('\\r'), \"горизонтальная табуляция\" ('\\t') и \"вертикальная табуляция\" ('\\v'))\n",
    "print(x.istitle())\t# Начинаются ли слова в строке с заглавной буквы"
   ]
  },
  {
   "cell_type": "markdown",
   "metadata": {
    "id": "OaRaw_Xhe_WW"
   },
   "source": [
    "## домашнее задание: \n",
    "(можно выполнять прям в ячейках, или скопировав код в \n",
    "PyCharm)\n"
   ]
  },
  {
   "cell_type": "code",
   "execution_count": null,
   "metadata": {
    "colab": {
     "base_uri": "https://localhost:8080/",
     "height": 238
    },
    "id": "7ULyIqr9rjqZ",
    "outputId": "7a234592-4700-4795-add5-6dfa18b12cb4"
   },
   "outputs": [],
   "source": [
    "# задание 1\n",
    "# какие из этих строк можно конкатенировать? Какие умножать? Какие вычитать? Запишите все результаты, которые у Вас получились\n",
    "a = 23\n",
    "b = 34.02\n",
    "c = \"python is cool \"\n",
    "d = \"you are cool, too \"\n",
    "\n",
    "print (a + b)\n",
    "print (a + a)\n",
    "print (b + b)\n",
    "print (c + d)\n",
    "print (d + c)\n",
    "print (a * b)\n",
    "print (a * a)\n",
    "print (b * b)\n",
    "print (a - b)\n",
    "print (b - a)\n",
    "print (c * a)\n",
    "print (d * a)"
   ]
  },
  {
   "cell_type": "code",
   "execution_count": null,
   "metadata": {
    "colab": {
     "base_uri": "https://localhost:8080/",
     "height": 101
    },
    "id": "rFbWmOQgiP3d",
    "outputId": "dca93701-fd58-4d03-f76b-72e72d366e57"
   },
   "outputs": [],
   "source": [
    "# задание 2\n",
    "\"\"\"\n",
    "Придумайте такую строку (на любом знакомом Вам языке),чтобы она состояла из трех других (повторы строки разрешены).\n",
    "Напишите код. Если вы можете сделать это более, чем одним способом, напишите все способы\n",
    "\"\"\"\n",
    "\n",
    "line1 = \"сегодня \"\n",
    "line2 = \"в Москве \"\n",
    "line3 = \"идет дождь \"\n",
    "concat = line3+line2+line1\n",
    "another_concat = line1+line2+line3\n",
    "\n",
    "print(concat)\n",
    "print(another_concat)\n",
    "\n",
    "print(\"привет \"*3)\n",
    "\n",
    "line1 = \"привет \"\n",
    "print(line1*3)\n",
    "\n",
    "line1 = \"привет \"\n",
    "count = 3\n",
    "result = line1*count \n",
    "print(result)\n"
   ]
  },
  {
   "cell_type": "code",
   "execution_count": null,
   "metadata": {
    "colab": {
     "base_uri": "https://localhost:8080/",
     "height": 34
    },
    "id": "p02vEmUD_ROs",
    "outputId": "1321a314-474e-48c0-ca3e-867747aed2e3"
   },
   "outputs": [],
   "source": [
    "# задание 3\n",
    "\"\"\"\n",
    "Как из слова \"апельсин\" сделать слово \"спаниель\" ? \n",
    "Подсказка: вам помогут срезы и операции с индексами\n",
    "\"\"\"\n",
    "new = \"апельсин\"\n",
    "print(new[-3]+new[1::-1]+new[:-3:-1]+new[2:5])\n"
   ]
  },
  {
   "cell_type": "code",
   "execution_count": null,
   "metadata": {
    "colab": {
     "base_uri": "https://localhost:8080/",
     "height": 34
    },
    "id": "-RcJ1FISsSPx",
    "outputId": "f9799ba9-8c16-46d2-e8be-c80bc7a23722"
   },
   "outputs": [],
   "source": [
    "# задание 4 (выполняется по желанию)\n",
    "\"\"\"элементы в переменной text преобразуйте в нижний регистр, а затем запишите наоборот, с последнего элемента по первый\"\"\"\n",
    "text = \"WOW,NOEL SEES LEON\"\n",
    "\n",
    "print(text[::-1].lower())"
   ]
  },
  {
   "cell_type": "code",
   "execution_count": null,
   "metadata": {
    "id": "YGLMAqT7VU-A"
   },
   "outputs": [],
   "source": []
  }
 ],
 "metadata": {
  "colab": {
   "collapsed_sections": [],
   "include_colab_link": true,
   "name": "Копия блокнота \"python_intro.ipynb\"",
   "provenance": []
  },
  "kernelspec": {
   "display_name": "Python 3",
   "language": "python",
   "name": "python3"
  },
  "language_info": {
   "codemirror_mode": {
    "name": "ipython",
    "version": 3
   },
   "file_extension": ".py",
   "mimetype": "text/x-python",
   "name": "python",
   "nbconvert_exporter": "python",
   "pygments_lexer": "ipython3",
   "version": "3.8.3"
  }
 },
 "nbformat": 4,
 "nbformat_minor": 1
}
