{
 "cells": [
  {
   "cell_type": "markdown",
   "metadata": {
    "colab_type": "text",
    "id": "LchzhkUv1OnX"
   },
   "source": [
    "Сегодня мы поговорим о библиотеке, которая позволяет работать с табличными данными. Она называется pandas"
   ]
  },
  {
   "cell_type": "code",
   "execution_count": 1,
   "metadata": {
    "colab": {},
    "colab_type": "code",
    "collapsed": true,
    "id": "xm8OMpR3JtQq"
   },
   "outputs": [
    {
     "name": "stdout",
     "output_type": "stream",
     "text": [
      "Package                      Version\r\n",
      "---------------------------- ------------------\r\n",
      "aiormq                       3.3.1\r\n",
      "appdirs                      1.4.3\r\n",
      "appnope                      0.1.0\r\n",
      "attrs                        19.3.0\r\n",
      "axial-positional-embedding   0.2.1\r\n",
      "backcall                     0.1.0\r\n",
      "beautiful                    0.0.2\r\n",
      "beautifulsoup4               4.9.1\r\n",
      "bleach                       3.1.1\r\n",
      "blis                         0.4.1\r\n",
      "boto3                        1.15.7\r\n",
      "botocore                     1.18.7\r\n",
      "catalogue                    1.0.0\r\n",
      "certifi                      2020.4.5.2\r\n",
      "cffi                         1.14.0\r\n",
      "chardet                      3.0.4\r\n",
      "click                        7.1.2\r\n",
      "contrastive-learner          0.1.0\r\n",
      "cryptography                 2.9.2\r\n",
      "cycler                       0.10.0\r\n",
      "cymem                        2.0.3\r\n",
      "dataclasses                  0.6\r\n",
      "DAWG                         0.8.0\r\n",
      "DAWG-Python                  0.7.2\r\n",
      "decorator                    4.4.2\r\n",
      "defusedxml                   0.6.0\r\n",
      "distlib                      0.3.0\r\n",
      "docopt                       0.6.2\r\n",
      "en-core-web-lg               2.3.1\r\n",
      "en-core-web-sm               2.3.1\r\n",
      "entrypoints                  0.3\r\n",
      "fastscript                   0.1.4\r\n",
      "filelock                     3.0.12\r\n",
      "fire                         0.3.1\r\n",
      "future                       0.18.2\r\n",
      "gensim                       3.8.3\r\n",
      "graphviz                     0.16\r\n",
      "h11                          0.9.0\r\n",
      "httptools                    0.1.1\r\n",
      "idna                         2.8\r\n",
      "ipykernel                    5.1.4\r\n",
      "ipython                      7.13.0\r\n",
      "ipython-genutils             0.2.0\r\n",
      "ipywidgets                   7.5.1\r\n",
      "jedi                         0.16.0\r\n",
      "Jinja2                       2.11.1\r\n",
      "jmespath                     0.10.0\r\n",
      "joblib                       0.14.1\r\n",
      "json5                        0.9.2\r\n",
      "jsonschema                   3.2.0\r\n",
      "jupyter-client               6.0.0\r\n",
      "jupyter-core                 4.6.3\r\n",
      "jupyterlab                   2.0.1\r\n",
      "jupyterlab-server            1.0.7\r\n",
      "kiwisolver                   1.1.0\r\n",
      "kornia                       0.4.1\r\n",
      "linear-attention-transformer 0.15.0\r\n",
      "linformer                    0.2.0\r\n",
      "local-attention              1.1.1\r\n",
      "lxml                         4.6.2\r\n",
      "markovify                    0.8.3\r\n",
      "MarkupSafe                   1.1.1\r\n",
      "matplotlib                   3.2.1\r\n",
      "mistune                      0.8.4\r\n",
      "multidict                    5.1.0\r\n",
      "murmurhash                   1.0.2\r\n",
      "nbconvert                    5.6.1\r\n",
      "nbdev                        0.2.16\r\n",
      "nbformat                     5.0.4\r\n",
      "networkx                     2.5\r\n",
      "neuralcoref                  4.0\r\n",
      "nltk                         3.5\r\n",
      "notebook                     6.0.3\r\n",
      "numpy                        1.18.0\r\n",
      "packaging                    20.3\r\n",
      "pamqp                        2.3.0\r\n",
      "pandas                       1.0.2\r\n",
      "pandocfilters                1.4.2\r\n",
      "parso                        0.6.2\r\n",
      "pexpect                      4.8.0\r\n",
      "pickleshare                  0.7.5\r\n",
      "Pillow                       8.0.1\r\n",
      "pip                          21.0\r\n",
      "plac                         1.1.3\r\n",
      "preshed                      3.0.2\r\n",
      "product-key-memory           0.1.10\r\n",
      "prometheus-client            0.7.1\r\n",
      "prompt-toolkit               3.0.4\r\n",
      "ptyprocess                   0.6.0\r\n",
      "py                           1.9.0\r\n",
      "pycparser                    2.20\r\n",
      "pydantic                     1.3\r\n",
      "pydot                        1.4.1\r\n",
      "pyenchant                    3.2.0\r\n",
      "Pygments                     2.5.2\r\n",
      "pymorphy2                    0.9.1\r\n",
      "pymorphy2-dicts              2.4.393442.3710985\r\n",
      "pymorphy2-dicts-ru           2.4.417127.4579844\r\n",
      "pymystem3                    0.1.10\r\n",
      "pyparsing                    2.4.6\r\n",
      "pyrsistent                   0.15.7\r\n",
      "python-dateutil              2.8.1\r\n",
      "python-telegram-bot          12.7\r\n",
      "pytorch-fid                  0.1.1\r\n",
      "pytz                         2019.1\r\n",
      "PyYAML                       5.3.1\r\n",
      "pyzmq                        19.0.0\r\n",
      "regex                        2020.11.13\r\n",
      "requests                     2.22.0\r\n",
      "retry                        0.9.2\r\n",
      "rusenttokenize               0.0.5\r\n",
      "russian-tagsets              0.6\r\n",
      "s3transfer                   0.3.3\r\n",
      "scikit-learn                 0.24.1\r\n",
      "scipy                        1.4.1\r\n",
      "seaborn                      0.10.0\r\n",
      "Send2Trash                   1.5.0\r\n",
      "setuptools                   41.2.0\r\n",
      "six                          1.14.0\r\n",
      "sklearn                      0.0\r\n",
      "smart-open                   4.0.1\r\n",
      "soup                         0.1.0\r\n",
      "soupsieve                    2.0.1\r\n",
      "spacy                        2.3.2\r\n",
      "squarify                     0.4.3\r\n",
      "srsly                        1.0.2\r\n",
      "starlette                    0.12.9\r\n",
      "stylegan2-pytorch            1.2.6\r\n",
      "termcolor                    1.1.0\r\n",
      "terminado                    0.8.3\r\n",
      "testpath                     0.4.4\r\n",
      "thinc                        7.4.1\r\n",
      "threadpoolctl                2.1.0\r\n",
      "torch                        1.7.0\r\n",
      "torchaudio                   0.7.0\r\n",
      "torchvision                  0.8.1\r\n",
      "tornado                      6.0.4\r\n",
      "tqdm                         4.41.1\r\n",
      "traitlets                    4.3.3\r\n",
      "transliterate                1.10.2\r\n",
      "typing-extensions            3.7.4.3\r\n",
      "ufal.udpipe                  1.2.0.3\r\n",
      "Unidecode                    1.1.1\r\n",
      "urllib3                      1.25.10\r\n",
      "uvicorn                      0.11.7\r\n",
      "uvloop                       0.14.0\r\n",
      "vector-quantize-pytorch      0.1.0\r\n",
      "virtualenv                   20.0.13\r\n",
      "wasabi                       0.8.0\r\n",
      "wcwidth                      0.1.8\r\n",
      "webencodings                 0.5.1\r\n",
      "websockets                   8.1\r\n",
      "widgetsnbextension           3.5.1\r\n",
      "Wikipedia-API                0.5.4\r\n",
      "wordcloud                    1.8.1\r\n",
      "xlrd                         1.2.0\r\n",
      "yargy                        0.15.0\r\n",
      "yarl                         1.6.3\r\n"
     ]
    }
   ],
   "source": [
    "! pip3 list # проверяем список установленных библиотек, вдруг pandas уже есть\n"
   ]
  },
  {
   "cell_type": "code",
   "execution_count": 2,
   "metadata": {
    "colab": {
     "base_uri": "https://localhost:8080/",
     "height": 101
    },
    "colab_type": "code",
    "id": "dy_UDg8kL5Vc",
    "outputId": "03e45008-9ea3-4b54-db6e-3099955cec94"
   },
   "outputs": [
    {
     "name": "stdout",
     "output_type": "stream",
     "text": [
      "Requirement already satisfied: pandas in /Library/Frameworks/Python.framework/Versions/3.8/lib/python3.8/site-packages (1.0.2)\r\n",
      "Requirement already satisfied: numpy>=1.13.3 in /Library/Frameworks/Python.framework/Versions/3.8/lib/python3.8/site-packages (from pandas) (1.18.0)\r\n",
      "Requirement already satisfied: python-dateutil>=2.6.1 in /Library/Frameworks/Python.framework/Versions/3.8/lib/python3.8/site-packages (from pandas) (2.8.1)\r\n",
      "Requirement already satisfied: pytz>=2017.2 in /Library/Frameworks/Python.framework/Versions/3.8/lib/python3.8/site-packages (from pandas) (2019.1)\r\n",
      "Requirement already satisfied: six>=1.5 in /Library/Frameworks/Python.framework/Versions/3.8/lib/python3.8/site-packages (from python-dateutil>=2.6.1->pandas) (1.14.0)\r\n"
     ]
    }
   ],
   "source": [
    "! pip3 install pandas # если pandas не найден, следует запустить эту ячейку"
   ]
  },
  {
   "cell_type": "code",
   "execution_count": 1,
   "metadata": {
    "colab": {},
    "colab_type": "code",
    "id": "mu_R9WN2MFeQ"
   },
   "outputs": [],
   "source": [
    "import pandas as pd # теперь импортируем pandas в эту тетрадку"
   ]
  },
  {
   "cell_type": "markdown",
   "metadata": {
    "colab_type": "text",
    "id": "dDSmXeLaTh4U"
   },
   "source": [
    "документация для pandas [лежит здесь](https://pandas.pydata.org/pandas-docs/stable/getting_started/tutorials.html)\n",
    "\n",
    "Основные элементы \"табличек в pandas\" - это Series и Dataframe\n",
    "\n",
    "Series - это объект, похожий на одномерный массив (как обычный список в питоне) с элементами и  индексами вдоль каждого элемента из списка. \n",
    "\n",
    "DataFrame \"собирается\" из таких Series"
   ]
  },
  {
   "cell_type": "markdown",
   "metadata": {
    "colab_type": "text",
    "id": "YwQGRoCkO4y1"
   },
   "source": [
    "*визуализация \"таблички\" в pandas* \n",
    "\n",
    "<figure class=\"captioned-images\"><div class=\"attributed-wrap\"><img alt=\"Series vs DataFrame\" class=\"img-responsive\" height=\"383\" src=\"https://storage.googleapis.com/lds-media/images/series-and-dataframe.width-1200.png\" width=\"1000\"></div></figure>\n",
    "\n",
    "Создадим Dataframe:"
   ]
  },
  {
   "cell_type": "code",
   "execution_count": 4,
   "metadata": {
    "colab": {
     "base_uri": "https://localhost:8080/",
     "height": 166
    },
    "colab_type": "code",
    "id": "6Vy_M6tPMQCE",
    "outputId": "306f8933-4b0d-46f5-8523-6926b235af5c"
   },
   "outputs": [
    {
     "data": {
      "text/html": [
       "<div>\n",
       "<style scoped>\n",
       "    .dataframe tbody tr th:only-of-type {\n",
       "        vertical-align: middle;\n",
       "    }\n",
       "\n",
       "    .dataframe tbody tr th {\n",
       "        vertical-align: top;\n",
       "    }\n",
       "\n",
       "    .dataframe thead th {\n",
       "        text-align: right;\n",
       "    }\n",
       "</style>\n",
       "<table border=\"1\" class=\"dataframe\">\n",
       "  <thead>\n",
       "    <tr style=\"text-align: right;\">\n",
       "      <th></th>\n",
       "      <th>apples</th>\n",
       "      <th>oranges</th>\n",
       "    </tr>\n",
       "  </thead>\n",
       "  <tbody>\n",
       "    <tr>\n",
       "      <th>0</th>\n",
       "      <td>3</td>\n",
       "      <td>0</td>\n",
       "    </tr>\n",
       "    <tr>\n",
       "      <th>1</th>\n",
       "      <td>2</td>\n",
       "      <td>3</td>\n",
       "    </tr>\n",
       "    <tr>\n",
       "      <th>2</th>\n",
       "      <td>0</td>\n",
       "      <td>7</td>\n",
       "    </tr>\n",
       "    <tr>\n",
       "      <th>3</th>\n",
       "      <td>1</td>\n",
       "      <td>2</td>\n",
       "    </tr>\n",
       "  </tbody>\n",
       "</table>\n",
       "</div>"
      ],
      "text/plain": [
       "   apples  oranges\n",
       "0       3        0\n",
       "1       2        3\n",
       "2       0        7\n",
       "3       1        2"
      ]
     },
     "metadata": {},
     "output_type": "display_data"
    }
   ],
   "source": [
    "# шаг 1 создадим словарь\n",
    "\n",
    "data = {'apples': [3, 2, 0, 1],\n",
    "        'oranges': [0, 3, 7, 2]\n",
    "       }\n",
    "\n",
    "# шаг 2 используем метод pd.DataFrame(), где аргументом подадим созданный словарь\n",
    "purchases = pd.DataFrame(data) \n",
    "\n",
    "# print(purchases) # посмотрим на датафрейм (попробуйте с print и без)\n",
    "\n",
    "# purchases\n",
    "display(purchases)"
   ]
  },
  {
   "cell_type": "markdown",
   "metadata": {},
   "source": [
    "Как посмотреть, что купил конкретный покупатель? Нам нужны индексы: по строкам работает метод ```.loc```"
   ]
  },
  {
   "cell_type": "code",
   "execution_count": 6,
   "metadata": {},
   "outputs": [
    {
     "data": {
      "text/plain": [
       "apples     1\n",
       "oranges    2\n",
       "Name: 3, dtype: int64"
      ]
     },
     "metadata": {},
     "output_type": "display_data"
    }
   ],
   "source": [
    "display(purchases.iloc[3]) # покупатель с индексом 3"
   ]
  },
  {
   "cell_type": "markdown",
   "metadata": {},
   "source": [
    "Индексы можно задавать не только числовые, но и строковые: давайте сделаем индексацию по именам"
   ]
  },
  {
   "cell_type": "code",
   "execution_count": 32,
   "metadata": {
    "colab": {
     "base_uri": "https://localhost:8080/",
     "height": 166
    },
    "colab_type": "code",
    "id": "qwznpLgCPSD-",
    "outputId": "6c14f85b-2f0f-4ba1-e32b-f81a261e99dd"
   },
   "outputs": [
    {
     "data": {
      "text/html": [
       "<div>\n",
       "<style scoped>\n",
       "    .dataframe tbody tr th:only-of-type {\n",
       "        vertical-align: middle;\n",
       "    }\n",
       "\n",
       "    .dataframe tbody tr th {\n",
       "        vertical-align: top;\n",
       "    }\n",
       "\n",
       "    .dataframe thead th {\n",
       "        text-align: right;\n",
       "    }\n",
       "</style>\n",
       "<table border=\"1\" class=\"dataframe\">\n",
       "  <thead>\n",
       "    <tr style=\"text-align: right;\">\n",
       "      <th></th>\n",
       "      <th>apples</th>\n",
       "      <th>oranges</th>\n",
       "    </tr>\n",
       "  </thead>\n",
       "  <tbody>\n",
       "    <tr>\n",
       "      <th>Jane</th>\n",
       "      <td>3</td>\n",
       "      <td>0</td>\n",
       "    </tr>\n",
       "    <tr>\n",
       "      <th>Robert</th>\n",
       "      <td>2</td>\n",
       "      <td>3</td>\n",
       "    </tr>\n",
       "    <tr>\n",
       "      <th>Lily</th>\n",
       "      <td>0</td>\n",
       "      <td>7</td>\n",
       "    </tr>\n",
       "    <tr>\n",
       "      <th>David</th>\n",
       "      <td>1</td>\n",
       "      <td>2</td>\n",
       "    </tr>\n",
       "  </tbody>\n",
       "</table>\n",
       "</div>"
      ],
      "text/plain": [
       "        apples  oranges\n",
       "Jane         3        0\n",
       "Robert       2        3\n",
       "Lily         0        7\n",
       "David        1        2"
      ]
     },
     "metadata": {},
     "output_type": "display_data"
    }
   ],
   "source": [
    "purchases = pd.DataFrame(data, index=['Jane', 'Robert', 'Lily', 'David'])\n",
    "\n",
    "display(purchases)"
   ]
  },
  {
   "cell_type": "markdown",
   "metadata": {},
   "source": [
    "По индексу можно проверить целый ряд в датафрейме. Попробуем посмотртеь на \"покупку\" по имени.\n",
    "\n",
    "Для этого понадобится метод ```.loc()```"
   ]
  },
  {
   "cell_type": "code",
   "execution_count": 8,
   "metadata": {
    "colab": {
     "base_uri": "https://localhost:8080/",
     "height": 67
    },
    "colab_type": "code",
    "id": "4vhYowB3TP56",
    "outputId": "7c343af5-7e6a-40b7-8bb8-3af5b4957ae1"
   },
   "outputs": [
    {
     "data": {
      "text/plain": [
       "apples     1\n",
       "oranges    2\n",
       "Name: David, dtype: int64"
      ]
     },
     "metadata": {},
     "output_type": "display_data"
    }
   ],
   "source": [
    "display(purchases.loc['David'])"
   ]
  },
  {
   "cell_type": "markdown",
   "metadata": {},
   "source": [
    "А как посмотреть все значения какой-нибудь колонки? Для этого достаточно указать ее название в квадратных скобках"
   ]
  },
  {
   "cell_type": "code",
   "execution_count": 9,
   "metadata": {
    "colab": {
     "base_uri": "https://localhost:8080/",
     "height": 101
    },
    "colab_type": "code",
    "id": "sf9Q50-_pzKo",
    "outputId": "c17a3626-0034-4631-aaa8-f473843c5bf6"
   },
   "outputs": [
    {
     "data": {
      "text/plain": [
       "Jane      0\n",
       "Robert    3\n",
       "Lily      7\n",
       "David     2\n",
       "Name: oranges, dtype: int64"
      ]
     },
     "execution_count": 9,
     "metadata": {},
     "output_type": "execute_result"
    }
   ],
   "source": [
    "purchases['oranges'] # посмотрим на всех покупателей яблок\n"
   ]
  },
  {
   "cell_type": "markdown",
   "metadata": {},
   "source": [
    "**как посмотреть или изменить конкретные значения по индексу:**"
   ]
  },
  {
   "cell_type": "code",
   "execution_count": 10,
   "metadata": {},
   "outputs": [],
   "source": [
    "purchases.loc['Jane',\"apples\"]=4 # изменим значения яблок для Jane, с 3 на 4"
   ]
  },
  {
   "cell_type": "markdown",
   "metadata": {},
   "source": [
    "### Добавление колонок и строк в датафрейм"
   ]
  },
  {
   "cell_type": "markdown",
   "metadata": {
    "colab_type": "text",
    "id": "6xG3z4Vov0Lq"
   },
   "source": [
    "В датафрейм можно добавить новые колонки: понадобится метод ```.assign()```"
   ]
  },
  {
   "cell_type": "code",
   "execution_count": 33,
   "metadata": {
    "colab": {
     "base_uri": "https://localhost:8080/",
     "height": 166
    },
    "colab_type": "code",
    "id": "q68INlyOv3wA",
    "outputId": "0609deea-e988-4368-dd64-355ebd87531c"
   },
   "outputs": [
    {
     "data": {
      "text/html": [
       "<div>\n",
       "<style scoped>\n",
       "    .dataframe tbody tr th:only-of-type {\n",
       "        vertical-align: middle;\n",
       "    }\n",
       "\n",
       "    .dataframe tbody tr th {\n",
       "        vertical-align: top;\n",
       "    }\n",
       "\n",
       "    .dataframe thead th {\n",
       "        text-align: right;\n",
       "    }\n",
       "</style>\n",
       "<table border=\"1\" class=\"dataframe\">\n",
       "  <thead>\n",
       "    <tr style=\"text-align: right;\">\n",
       "      <th></th>\n",
       "      <th>apples</th>\n",
       "      <th>oranges</th>\n",
       "      <th>weekday</th>\n",
       "      <th>daytime</th>\n",
       "    </tr>\n",
       "  </thead>\n",
       "  <tbody>\n",
       "    <tr>\n",
       "      <th>Jane</th>\n",
       "      <td>3</td>\n",
       "      <td>0</td>\n",
       "      <td>Mon</td>\n",
       "      <td>mor</td>\n",
       "    </tr>\n",
       "    <tr>\n",
       "      <th>Robert</th>\n",
       "      <td>2</td>\n",
       "      <td>3</td>\n",
       "      <td>Wed</td>\n",
       "      <td>evn</td>\n",
       "    </tr>\n",
       "    <tr>\n",
       "      <th>Lily</th>\n",
       "      <td>0</td>\n",
       "      <td>7</td>\n",
       "      <td>Thu</td>\n",
       "      <td>evn</td>\n",
       "    </tr>\n",
       "    <tr>\n",
       "      <th>David</th>\n",
       "      <td>1</td>\n",
       "      <td>2</td>\n",
       "      <td>Sat</td>\n",
       "      <td>evn</td>\n",
       "    </tr>\n",
       "  </tbody>\n",
       "</table>\n",
       "</div>"
      ],
      "text/plain": [
       "        apples  oranges weekday daytime\n",
       "Jane         3        0     Mon     mor\n",
       "Robert       2        3     Wed     evn\n",
       "Lily         0        7     Thu     evn\n",
       "David        1        2     Sat     evn"
      ]
     },
     "metadata": {},
     "output_type": "display_data"
    }
   ],
   "source": [
    "purchases = purchases.assign(weekday=['Mon',\"Wed\",\"Thu\",\"Sat\"],\n",
    "                             daytime=[\"mor\",\"evn\",\"evn\",\"evn\"])\n",
    "\n",
    "\n",
    "display(purchases)"
   ]
  },
  {
   "cell_type": "markdown",
   "metadata": {
    "colab_type": "text",
    "id": "8wI7nnyOx8kt"
   },
   "source": [
    "Добавить строки тоже можно: методом ```.append()```"
   ]
  },
  {
   "cell_type": "code",
   "execution_count": 34,
   "metadata": {
    "colab": {
     "base_uri": "https://localhost:8080/",
     "height": 77
    },
    "colab_type": "code",
    "id": "S2rnWzbQx9QU",
    "outputId": "f4c106ab-7d25-423c-df9e-f12f04ccf461"
   },
   "outputs": [
    {
     "data": {
      "text/html": [
       "<div>\n",
       "<style scoped>\n",
       "    .dataframe tbody tr th:only-of-type {\n",
       "        vertical-align: middle;\n",
       "    }\n",
       "\n",
       "    .dataframe tbody tr th {\n",
       "        vertical-align: top;\n",
       "    }\n",
       "\n",
       "    .dataframe thead th {\n",
       "        text-align: right;\n",
       "    }\n",
       "</style>\n",
       "<table border=\"1\" class=\"dataframe\">\n",
       "  <thead>\n",
       "    <tr style=\"text-align: right;\">\n",
       "      <th></th>\n",
       "      <th>apples</th>\n",
       "      <th>oranges</th>\n",
       "      <th>weekday</th>\n",
       "      <th>daytime</th>\n",
       "    </tr>\n",
       "  </thead>\n",
       "  <tbody>\n",
       "    <tr>\n",
       "      <th>Alexander</th>\n",
       "      <td>3</td>\n",
       "      <td>4</td>\n",
       "      <td>Fri</td>\n",
       "      <td>mor</td>\n",
       "    </tr>\n",
       "  </tbody>\n",
       "</table>\n",
       "</div>"
      ],
      "text/plain": [
       "          apples oranges weekday daytime\n",
       "Alexander      3       4     Fri     mor"
      ]
     },
     "execution_count": 34,
     "metadata": {},
     "output_type": "execute_result"
    }
   ],
   "source": [
    "# шаг1 создадим новый маленький датафрейм: \n",
    "df1 = pd.DataFrame({'apples': \"3\",\n",
    "                     'oranges': '4',\n",
    "                        'weekday':\"Fri\",\n",
    "                       'daytime':\"mor\"},\n",
    "                       index=[\"Alexander\"])\n",
    " \n",
    "\n",
    "df1"
   ]
  },
  {
   "cell_type": "code",
   "execution_count": 35,
   "metadata": {
    "colab": {},
    "colab_type": "code",
    "id": "nWBEDV_X0rVB"
   },
   "outputs": [],
   "source": [
    "# шаг2 добавим новый df к старому\n",
    "purchases = purchases.append(df1)\n"
   ]
  },
  {
   "cell_type": "markdown",
   "metadata": {},
   "source": [
    "Что будет если запустить ячейку с ```.append()``` несколько раз?"
   ]
  },
  {
   "cell_type": "code",
   "execution_count": 20,
   "metadata": {
    "colab": {
     "base_uri": "https://localhost:8080/",
     "height": 195
    },
    "colab_type": "code",
    "id": "MCuKk5Y62EMS",
    "outputId": "b891ccc5-b4b8-46b5-f195-d430209c3be5"
   },
   "outputs": [
    {
     "data": {
      "text/html": [
       "<div>\n",
       "<style scoped>\n",
       "    .dataframe tbody tr th:only-of-type {\n",
       "        vertical-align: middle;\n",
       "    }\n",
       "\n",
       "    .dataframe tbody tr th {\n",
       "        vertical-align: top;\n",
       "    }\n",
       "\n",
       "    .dataframe thead th {\n",
       "        text-align: right;\n",
       "    }\n",
       "</style>\n",
       "<table border=\"1\" class=\"dataframe\">\n",
       "  <thead>\n",
       "    <tr style=\"text-align: right;\">\n",
       "      <th></th>\n",
       "      <th>apples</th>\n",
       "      <th>oranges</th>\n",
       "      <th>weekday</th>\n",
       "      <th>daytime</th>\n",
       "    </tr>\n",
       "  </thead>\n",
       "  <tbody>\n",
       "    <tr>\n",
       "      <th>Jane</th>\n",
       "      <td>4</td>\n",
       "      <td>0</td>\n",
       "      <td>Mon</td>\n",
       "      <td>mor</td>\n",
       "    </tr>\n",
       "    <tr>\n",
       "      <th>Robert</th>\n",
       "      <td>2</td>\n",
       "      <td>3</td>\n",
       "      <td>Wed</td>\n",
       "      <td>evn</td>\n",
       "    </tr>\n",
       "    <tr>\n",
       "      <th>Lily</th>\n",
       "      <td>0</td>\n",
       "      <td>7</td>\n",
       "      <td>Thu</td>\n",
       "      <td>evn</td>\n",
       "    </tr>\n",
       "    <tr>\n",
       "      <th>David</th>\n",
       "      <td>1</td>\n",
       "      <td>2</td>\n",
       "      <td>Sat</td>\n",
       "      <td>evn</td>\n",
       "    </tr>\n",
       "    <tr>\n",
       "      <th>Alexander</th>\n",
       "      <td>3</td>\n",
       "      <td>4</td>\n",
       "      <td>Fri</td>\n",
       "      <td>mor</td>\n",
       "    </tr>\n",
       "    <tr>\n",
       "      <th>Alexander</th>\n",
       "      <td>3</td>\n",
       "      <td>4</td>\n",
       "      <td>Fri</td>\n",
       "      <td>mor</td>\n",
       "    </tr>\n",
       "    <tr>\n",
       "      <th>Alexander</th>\n",
       "      <td>3</td>\n",
       "      <td>4</td>\n",
       "      <td>Fri</td>\n",
       "      <td>mor</td>\n",
       "    </tr>\n",
       "  </tbody>\n",
       "</table>\n",
       "</div>"
      ],
      "text/plain": [
       "          apples oranges weekday daytime\n",
       "Jane           4       0     Mon     mor\n",
       "Robert         2       3     Wed     evn\n",
       "Lily           0       7     Thu     evn\n",
       "David          1       2     Sat     evn\n",
       "Alexander      3       4     Fri     mor\n",
       "Alexander      3       4     Fri     mor\n",
       "Alexander      3       4     Fri     mor"
      ]
     },
     "metadata": {},
     "output_type": "display_data"
    }
   ],
   "source": [
    "display(purchases) # посмотрим на результат"
   ]
  },
  {
   "cell_type": "markdown",
   "metadata": {
    "colab_type": "text",
    "id": "ZESKs95y71Wy"
   },
   "source": [
    "### что делать, если добавились ненужные строки? "
   ]
  },
  {
   "cell_type": "code",
   "execution_count": 21,
   "metadata": {
    "colab": {},
    "colab_type": "code",
    "id": "LOScAXKZ78py"
   },
   "outputs": [],
   "source": [
    "# добавим Монику и Олега\n",
    "# они ничего не купили, потому что пришли в воскресенье вечером, магазин был закрыт \n",
    "\n",
    "purchases = purchases.append(pd.DataFrame({\n",
    "    'apples': [0,0], \n",
    "    'oranges': [0,0],\n",
    "    'weekday':[\"Sun\",\"Sun\"],\n",
    "    'daytime':[\"evn\",\"evn\"]},\n",
    "    \n",
    "     index=[\"Monica\",\"Oleg\"]))"
   ]
  },
  {
   "cell_type": "code",
   "execution_count": 22,
   "metadata": {
    "colab": {
     "base_uri": "https://localhost:8080/",
     "height": 254
    },
    "colab_type": "code",
    "id": "hrM7ZOtz-f8J",
    "outputId": "07a24754-088b-4914-a717-622bec6e20d4"
   },
   "outputs": [
    {
     "data": {
      "text/html": [
       "<div>\n",
       "<style scoped>\n",
       "    .dataframe tbody tr th:only-of-type {\n",
       "        vertical-align: middle;\n",
       "    }\n",
       "\n",
       "    .dataframe tbody tr th {\n",
       "        vertical-align: top;\n",
       "    }\n",
       "\n",
       "    .dataframe thead th {\n",
       "        text-align: right;\n",
       "    }\n",
       "</style>\n",
       "<table border=\"1\" class=\"dataframe\">\n",
       "  <thead>\n",
       "    <tr style=\"text-align: right;\">\n",
       "      <th></th>\n",
       "      <th>apples</th>\n",
       "      <th>oranges</th>\n",
       "      <th>weekday</th>\n",
       "      <th>daytime</th>\n",
       "    </tr>\n",
       "  </thead>\n",
       "  <tbody>\n",
       "    <tr>\n",
       "      <th>Jane</th>\n",
       "      <td>4</td>\n",
       "      <td>0</td>\n",
       "      <td>Mon</td>\n",
       "      <td>mor</td>\n",
       "    </tr>\n",
       "    <tr>\n",
       "      <th>Robert</th>\n",
       "      <td>2</td>\n",
       "      <td>3</td>\n",
       "      <td>Wed</td>\n",
       "      <td>evn</td>\n",
       "    </tr>\n",
       "    <tr>\n",
       "      <th>Lily</th>\n",
       "      <td>0</td>\n",
       "      <td>7</td>\n",
       "      <td>Thu</td>\n",
       "      <td>evn</td>\n",
       "    </tr>\n",
       "    <tr>\n",
       "      <th>David</th>\n",
       "      <td>1</td>\n",
       "      <td>2</td>\n",
       "      <td>Sat</td>\n",
       "      <td>evn</td>\n",
       "    </tr>\n",
       "    <tr>\n",
       "      <th>Alexander</th>\n",
       "      <td>3</td>\n",
       "      <td>4</td>\n",
       "      <td>Fri</td>\n",
       "      <td>mor</td>\n",
       "    </tr>\n",
       "    <tr>\n",
       "      <th>Alexander</th>\n",
       "      <td>3</td>\n",
       "      <td>4</td>\n",
       "      <td>Fri</td>\n",
       "      <td>mor</td>\n",
       "    </tr>\n",
       "    <tr>\n",
       "      <th>Alexander</th>\n",
       "      <td>3</td>\n",
       "      <td>4</td>\n",
       "      <td>Fri</td>\n",
       "      <td>mor</td>\n",
       "    </tr>\n",
       "    <tr>\n",
       "      <th>Monica</th>\n",
       "      <td>0</td>\n",
       "      <td>0</td>\n",
       "      <td>Sun</td>\n",
       "      <td>evn</td>\n",
       "    </tr>\n",
       "    <tr>\n",
       "      <th>Oleg</th>\n",
       "      <td>0</td>\n",
       "      <td>0</td>\n",
       "      <td>Sun</td>\n",
       "      <td>evn</td>\n",
       "    </tr>\n",
       "  </tbody>\n",
       "</table>\n",
       "</div>"
      ],
      "text/plain": [
       "          apples oranges weekday daytime\n",
       "Jane           4       0     Mon     mor\n",
       "Robert         2       3     Wed     evn\n",
       "Lily           0       7     Thu     evn\n",
       "David          1       2     Sat     evn\n",
       "Alexander      3       4     Fri     mor\n",
       "Alexander      3       4     Fri     mor\n",
       "Alexander      3       4     Fri     mor\n",
       "Monica         0       0     Sun     evn\n",
       "Oleg           0       0     Sun     evn"
      ]
     },
     "metadata": {},
     "output_type": "display_data"
    }
   ],
   "source": [
    "display(purchases)\n",
    "# теперь у нас есть Моника и Олег, а еще два раза Александр. \n",
    "# Мы хотим удалить лишние строки: Монику, Олега и один раз Александра."
   ]
  },
  {
   "cell_type": "markdown",
   "metadata": {},
   "source": [
    "для удаления строк понадобится метод ```.drop()```"
   ]
  },
  {
   "cell_type": "code",
   "execution_count": 23,
   "metadata": {
    "colab": {},
    "colab_type": "code",
    "id": "9Wkme2a_-0mu"
   },
   "outputs": [],
   "source": [
    "# Удалим строки с покупками Моники и Олега\n",
    "purchases = purchases.drop([\"Monica\",\"Oleg\"])"
   ]
  },
  {
   "cell_type": "code",
   "execution_count": 24,
   "metadata": {},
   "outputs": [
    {
     "data": {
      "text/html": [
       "<div>\n",
       "<style scoped>\n",
       "    .dataframe tbody tr th:only-of-type {\n",
       "        vertical-align: middle;\n",
       "    }\n",
       "\n",
       "    .dataframe tbody tr th {\n",
       "        vertical-align: top;\n",
       "    }\n",
       "\n",
       "    .dataframe thead th {\n",
       "        text-align: right;\n",
       "    }\n",
       "</style>\n",
       "<table border=\"1\" class=\"dataframe\">\n",
       "  <thead>\n",
       "    <tr style=\"text-align: right;\">\n",
       "      <th></th>\n",
       "      <th>apples</th>\n",
       "      <th>oranges</th>\n",
       "      <th>weekday</th>\n",
       "      <th>daytime</th>\n",
       "    </tr>\n",
       "  </thead>\n",
       "  <tbody>\n",
       "    <tr>\n",
       "      <th>Jane</th>\n",
       "      <td>4</td>\n",
       "      <td>0</td>\n",
       "      <td>Mon</td>\n",
       "      <td>mor</td>\n",
       "    </tr>\n",
       "    <tr>\n",
       "      <th>Robert</th>\n",
       "      <td>2</td>\n",
       "      <td>3</td>\n",
       "      <td>Wed</td>\n",
       "      <td>evn</td>\n",
       "    </tr>\n",
       "    <tr>\n",
       "      <th>Lily</th>\n",
       "      <td>0</td>\n",
       "      <td>7</td>\n",
       "      <td>Thu</td>\n",
       "      <td>evn</td>\n",
       "    </tr>\n",
       "    <tr>\n",
       "      <th>David</th>\n",
       "      <td>1</td>\n",
       "      <td>2</td>\n",
       "      <td>Sat</td>\n",
       "      <td>evn</td>\n",
       "    </tr>\n",
       "    <tr>\n",
       "      <th>Alexander</th>\n",
       "      <td>3</td>\n",
       "      <td>4</td>\n",
       "      <td>Fri</td>\n",
       "      <td>mor</td>\n",
       "    </tr>\n",
       "    <tr>\n",
       "      <th>Alexander</th>\n",
       "      <td>3</td>\n",
       "      <td>4</td>\n",
       "      <td>Fri</td>\n",
       "      <td>mor</td>\n",
       "    </tr>\n",
       "    <tr>\n",
       "      <th>Alexander</th>\n",
       "      <td>3</td>\n",
       "      <td>4</td>\n",
       "      <td>Fri</td>\n",
       "      <td>mor</td>\n",
       "    </tr>\n",
       "  </tbody>\n",
       "</table>\n",
       "</div>"
      ],
      "text/plain": [
       "          apples oranges weekday daytime\n",
       "Jane           4       0     Mon     mor\n",
       "Robert         2       3     Wed     evn\n",
       "Lily           0       7     Thu     evn\n",
       "David          1       2     Sat     evn\n",
       "Alexander      3       4     Fri     mor\n",
       "Alexander      3       4     Fri     mor\n",
       "Alexander      3       4     Fri     mor"
      ]
     },
     "metadata": {},
     "output_type": "display_data"
    }
   ],
   "source": [
    "display(purchases)"
   ]
  },
  {
   "cell_type": "markdown",
   "metadata": {},
   "source": [
    "А так можно удалить дубликаты уже существующих строк:"
   ]
  },
  {
   "cell_type": "code",
   "execution_count": 25,
   "metadata": {
    "colab": {},
    "colab_type": "code",
    "id": "WB8VMk5P6Kmy"
   },
   "outputs": [],
   "source": [
    "#убираем дупликаты\n",
    "purchases = purchases.drop_duplicates()"
   ]
  },
  {
   "cell_type": "code",
   "execution_count": 26,
   "metadata": {
    "colab": {
     "base_uri": "https://localhost:8080/",
     "height": 195
    },
    "colab_type": "code",
    "id": "DviUjsLh_aAh",
    "outputId": "fb3f8f5f-a162-47a2-a13d-0b8c21eb29be"
   },
   "outputs": [
    {
     "data": {
      "text/html": [
       "<div>\n",
       "<style scoped>\n",
       "    .dataframe tbody tr th:only-of-type {\n",
       "        vertical-align: middle;\n",
       "    }\n",
       "\n",
       "    .dataframe tbody tr th {\n",
       "        vertical-align: top;\n",
       "    }\n",
       "\n",
       "    .dataframe thead th {\n",
       "        text-align: right;\n",
       "    }\n",
       "</style>\n",
       "<table border=\"1\" class=\"dataframe\">\n",
       "  <thead>\n",
       "    <tr style=\"text-align: right;\">\n",
       "      <th></th>\n",
       "      <th>apples</th>\n",
       "      <th>oranges</th>\n",
       "      <th>weekday</th>\n",
       "      <th>daytime</th>\n",
       "    </tr>\n",
       "  </thead>\n",
       "  <tbody>\n",
       "    <tr>\n",
       "      <th>Jane</th>\n",
       "      <td>4</td>\n",
       "      <td>0</td>\n",
       "      <td>Mon</td>\n",
       "      <td>mor</td>\n",
       "    </tr>\n",
       "    <tr>\n",
       "      <th>Robert</th>\n",
       "      <td>2</td>\n",
       "      <td>3</td>\n",
       "      <td>Wed</td>\n",
       "      <td>evn</td>\n",
       "    </tr>\n",
       "    <tr>\n",
       "      <th>Lily</th>\n",
       "      <td>0</td>\n",
       "      <td>7</td>\n",
       "      <td>Thu</td>\n",
       "      <td>evn</td>\n",
       "    </tr>\n",
       "    <tr>\n",
       "      <th>David</th>\n",
       "      <td>1</td>\n",
       "      <td>2</td>\n",
       "      <td>Sat</td>\n",
       "      <td>evn</td>\n",
       "    </tr>\n",
       "    <tr>\n",
       "      <th>Alexander</th>\n",
       "      <td>3</td>\n",
       "      <td>4</td>\n",
       "      <td>Fri</td>\n",
       "      <td>mor</td>\n",
       "    </tr>\n",
       "  </tbody>\n",
       "</table>\n",
       "</div>"
      ],
      "text/plain": [
       "          apples oranges weekday daytime\n",
       "Jane           4       0     Mon     mor\n",
       "Robert         2       3     Wed     evn\n",
       "Lily           0       7     Thu     evn\n",
       "David          1       2     Sat     evn\n",
       "Alexander      3       4     Fri     mor"
      ]
     },
     "metadata": {},
     "output_type": "display_data"
    }
   ],
   "source": [
    "# проверяем, что все хорошо: у нас больше нет ненужных строк и дубликатов\n",
    "display(purchases)"
   ]
  },
  {
   "cell_type": "markdown",
   "metadata": {},
   "source": [
    "**как удалить колонки**\n",
    "Есть несколько вариантов\n",
    "\n",
    "1) с пересохранением датафрейма"
   ]
  },
  {
   "cell_type": "code",
   "execution_count": 53,
   "metadata": {},
   "outputs": [
    {
     "data": {
      "text/html": [
       "<div>\n",
       "<style scoped>\n",
       "    .dataframe tbody tr th:only-of-type {\n",
       "        vertical-align: middle;\n",
       "    }\n",
       "\n",
       "    .dataframe tbody tr th {\n",
       "        vertical-align: top;\n",
       "    }\n",
       "\n",
       "    .dataframe thead th {\n",
       "        text-align: right;\n",
       "    }\n",
       "</style>\n",
       "<table border=\"1\" class=\"dataframe\">\n",
       "  <thead>\n",
       "    <tr style=\"text-align: right;\">\n",
       "      <th></th>\n",
       "      <th>apples</th>\n",
       "      <th>oranges</th>\n",
       "    </tr>\n",
       "  </thead>\n",
       "  <tbody>\n",
       "    <tr>\n",
       "      <th>Jane</th>\n",
       "      <td>3</td>\n",
       "      <td>0</td>\n",
       "    </tr>\n",
       "    <tr>\n",
       "      <th>Robert</th>\n",
       "      <td>2</td>\n",
       "      <td>3</td>\n",
       "    </tr>\n",
       "    <tr>\n",
       "      <th>Lily</th>\n",
       "      <td>0</td>\n",
       "      <td>7</td>\n",
       "    </tr>\n",
       "    <tr>\n",
       "      <th>David</th>\n",
       "      <td>1</td>\n",
       "      <td>2</td>\n",
       "    </tr>\n",
       "    <tr>\n",
       "      <th>Alexander</th>\n",
       "      <td>3</td>\n",
       "      <td>4</td>\n",
       "    </tr>\n",
       "  </tbody>\n",
       "</table>\n",
       "</div>"
      ],
      "text/plain": [
       "          apples oranges\n",
       "Jane           3       0\n",
       "Robert         2       3\n",
       "Lily           0       7\n",
       "David          1       2\n",
       "Alexander      3       4"
      ]
     },
     "metadata": {},
     "output_type": "display_data"
    }
   ],
   "source": [
    "purchases.drop('daytime', axis=1, inplace=True)\n",
    "# второй аргумент -- это ось (axis): 0 для рядов и 1 для столбцов\n",
    "\n",
    "display(purchases)"
   ]
  },
  {
   "cell_type": "markdown",
   "metadata": {},
   "source": [
    "еще один вариант с пересохранением"
   ]
  },
  {
   "cell_type": "code",
   "execution_count": 52,
   "metadata": {},
   "outputs": [
    {
     "data": {
      "text/html": [
       "<div>\n",
       "<style scoped>\n",
       "    .dataframe tbody tr th:only-of-type {\n",
       "        vertical-align: middle;\n",
       "    }\n",
       "\n",
       "    .dataframe tbody tr th {\n",
       "        vertical-align: top;\n",
       "    }\n",
       "\n",
       "    .dataframe thead th {\n",
       "        text-align: right;\n",
       "    }\n",
       "</style>\n",
       "<table border=\"1\" class=\"dataframe\">\n",
       "  <thead>\n",
       "    <tr style=\"text-align: right;\">\n",
       "      <th></th>\n",
       "      <th>apples</th>\n",
       "      <th>oranges</th>\n",
       "      <th>daytime</th>\n",
       "    </tr>\n",
       "  </thead>\n",
       "  <tbody>\n",
       "    <tr>\n",
       "      <th>Jane</th>\n",
       "      <td>3</td>\n",
       "      <td>0</td>\n",
       "      <td>mor</td>\n",
       "    </tr>\n",
       "    <tr>\n",
       "      <th>Robert</th>\n",
       "      <td>2</td>\n",
       "      <td>3</td>\n",
       "      <td>evn</td>\n",
       "    </tr>\n",
       "    <tr>\n",
       "      <th>Lily</th>\n",
       "      <td>0</td>\n",
       "      <td>7</td>\n",
       "      <td>evn</td>\n",
       "    </tr>\n",
       "    <tr>\n",
       "      <th>David</th>\n",
       "      <td>1</td>\n",
       "      <td>2</td>\n",
       "      <td>evn</td>\n",
       "    </tr>\n",
       "    <tr>\n",
       "      <th>Alexander</th>\n",
       "      <td>3</td>\n",
       "      <td>4</td>\n",
       "      <td>mor</td>\n",
       "    </tr>\n",
       "  </tbody>\n",
       "</table>\n",
       "</div>"
      ],
      "text/plain": [
       "          apples oranges daytime\n",
       "Jane           3       0     mor\n",
       "Robert         2       3     evn\n",
       "Lily           0       7     evn\n",
       "David          1       2     evn\n",
       "Alexander      3       4     mor"
      ]
     },
     "metadata": {},
     "output_type": "display_data"
    }
   ],
   "source": [
    "purchases = purchases.drop('weekday', 1)\n",
    "# второй аргумент -- это ось (axis): 0 для рядов и 1 для столбцов\n",
    "\n",
    "display(purchases)"
   ]
  },
  {
   "cell_type": "markdown",
   "metadata": {},
   "source": [
    "2) без сохранения (мы не сохранили результат выражения в переменную)"
   ]
  },
  {
   "cell_type": "code",
   "execution_count": 29,
   "metadata": {},
   "outputs": [
    {
     "data": {
      "text/html": [
       "<div>\n",
       "<style scoped>\n",
       "    .dataframe tbody tr th:only-of-type {\n",
       "        vertical-align: middle;\n",
       "    }\n",
       "\n",
       "    .dataframe tbody tr th {\n",
       "        vertical-align: top;\n",
       "    }\n",
       "\n",
       "    .dataframe thead th {\n",
       "        text-align: right;\n",
       "    }\n",
       "</style>\n",
       "<table border=\"1\" class=\"dataframe\">\n",
       "  <thead>\n",
       "    <tr style=\"text-align: right;\">\n",
       "      <th></th>\n",
       "      <th>apples</th>\n",
       "    </tr>\n",
       "  </thead>\n",
       "  <tbody>\n",
       "    <tr>\n",
       "      <th>Jane</th>\n",
       "      <td>4</td>\n",
       "    </tr>\n",
       "    <tr>\n",
       "      <th>Robert</th>\n",
       "      <td>2</td>\n",
       "    </tr>\n",
       "    <tr>\n",
       "      <th>Lily</th>\n",
       "      <td>0</td>\n",
       "    </tr>\n",
       "    <tr>\n",
       "      <th>David</th>\n",
       "      <td>1</td>\n",
       "    </tr>\n",
       "    <tr>\n",
       "      <th>Alexander</th>\n",
       "      <td>3</td>\n",
       "    </tr>\n",
       "  </tbody>\n",
       "</table>\n",
       "</div>"
      ],
      "text/plain": [
       "          apples\n",
       "Jane           4\n",
       "Robert         2\n",
       "Lily           0\n",
       "David          1\n",
       "Alexander      3"
      ]
     },
     "execution_count": 29,
     "metadata": {},
     "output_type": "execute_result"
    }
   ],
   "source": [
    "purchases.drop([\"oranges\"], 1)"
   ]
  },
  {
   "cell_type": "code",
   "execution_count": 30,
   "metadata": {},
   "outputs": [
    {
     "data": {
      "text/html": [
       "<div>\n",
       "<style scoped>\n",
       "    .dataframe tbody tr th:only-of-type {\n",
       "        vertical-align: middle;\n",
       "    }\n",
       "\n",
       "    .dataframe tbody tr th {\n",
       "        vertical-align: top;\n",
       "    }\n",
       "\n",
       "    .dataframe thead th {\n",
       "        text-align: right;\n",
       "    }\n",
       "</style>\n",
       "<table border=\"1\" class=\"dataframe\">\n",
       "  <thead>\n",
       "    <tr style=\"text-align: right;\">\n",
       "      <th></th>\n",
       "      <th>apples</th>\n",
       "      <th>oranges</th>\n",
       "    </tr>\n",
       "  </thead>\n",
       "  <tbody>\n",
       "    <tr>\n",
       "      <th>Jane</th>\n",
       "      <td>4</td>\n",
       "      <td>0</td>\n",
       "    </tr>\n",
       "    <tr>\n",
       "      <th>Robert</th>\n",
       "      <td>2</td>\n",
       "      <td>3</td>\n",
       "    </tr>\n",
       "    <tr>\n",
       "      <th>Lily</th>\n",
       "      <td>0</td>\n",
       "      <td>7</td>\n",
       "    </tr>\n",
       "    <tr>\n",
       "      <th>David</th>\n",
       "      <td>1</td>\n",
       "      <td>2</td>\n",
       "    </tr>\n",
       "    <tr>\n",
       "      <th>Alexander</th>\n",
       "      <td>3</td>\n",
       "      <td>4</td>\n",
       "    </tr>\n",
       "  </tbody>\n",
       "</table>\n",
       "</div>"
      ],
      "text/plain": [
       "          apples oranges\n",
       "Jane           4       0\n",
       "Robert         2       3\n",
       "Lily           0       7\n",
       "David          1       2\n",
       "Alexander      3       4"
      ]
     },
     "metadata": {},
     "output_type": "display_data"
    }
   ],
   "source": [
    "display(purchases) #в актуальном дф колонка \"oranges\" не исчезла"
   ]
  },
  {
   "cell_type": "markdown",
   "metadata": {
    "colab_type": "text",
    "id": "lhSO86cwq1ni"
   },
   "source": [
    "### индексы"
   ]
  },
  {
   "cell_type": "code",
   "execution_count": 55,
   "metadata": {},
   "outputs": [
    {
     "data": {
      "text/html": [
       "<div>\n",
       "<style scoped>\n",
       "    .dataframe tbody tr th:only-of-type {\n",
       "        vertical-align: middle;\n",
       "    }\n",
       "\n",
       "    .dataframe tbody tr th {\n",
       "        vertical-align: top;\n",
       "    }\n",
       "\n",
       "    .dataframe thead th {\n",
       "        text-align: right;\n",
       "    }\n",
       "</style>\n",
       "<table border=\"1\" class=\"dataframe\">\n",
       "  <thead>\n",
       "    <tr style=\"text-align: right;\">\n",
       "      <th></th>\n",
       "      <th>apples</th>\n",
       "      <th>oranges</th>\n",
       "      <th>weekday</th>\n",
       "    </tr>\n",
       "  </thead>\n",
       "  <tbody>\n",
       "    <tr>\n",
       "      <th>Jane</th>\n",
       "      <td>3</td>\n",
       "      <td>0</td>\n",
       "      <td>Mon</td>\n",
       "    </tr>\n",
       "    <tr>\n",
       "      <th>Robert</th>\n",
       "      <td>2</td>\n",
       "      <td>3</td>\n",
       "      <td>Wed</td>\n",
       "    </tr>\n",
       "    <tr>\n",
       "      <th>Lily</th>\n",
       "      <td>0</td>\n",
       "      <td>7</td>\n",
       "      <td>Thu</td>\n",
       "    </tr>\n",
       "    <tr>\n",
       "      <th>David</th>\n",
       "      <td>1</td>\n",
       "      <td>2</td>\n",
       "      <td>Sat</td>\n",
       "    </tr>\n",
       "    <tr>\n",
       "      <th>Alexander</th>\n",
       "      <td>3</td>\n",
       "      <td>4</td>\n",
       "      <td>Fri</td>\n",
       "    </tr>\n",
       "  </tbody>\n",
       "</table>\n",
       "</div>"
      ],
      "text/plain": [
       "          apples oranges weekday\n",
       "Jane           3       0     Mon\n",
       "Robert         2       3     Wed\n",
       "Lily           0       7     Thu\n",
       "David          1       2     Sat\n",
       "Alexander      3       4     Fri"
      ]
     },
     "metadata": {},
     "output_type": "display_data"
    }
   ],
   "source": [
    "# сначала быстро вернем колонку weekdays\n",
    "\n",
    "purchases = purchases.assign(weekday=['Mon',\"Wed\",\"Thu\",\"Sat\",\"Fri\"])\n",
    "\n",
    "\n",
    "display(purchases)"
   ]
  },
  {
   "cell_type": "markdown",
   "metadata": {},
   "source": [
    "Объект DataFrame имеет 2 индекса: по строкам и по столбцам."
   ]
  },
  {
   "cell_type": "code",
   "execution_count": 56,
   "metadata": {},
   "outputs": [
    {
     "data": {
      "text/plain": [
       "Index(['Jane', 'Robert', 'Lily', 'David', 'Alexander'], dtype='object')"
      ]
     },
     "metadata": {},
     "output_type": "display_data"
    }
   ],
   "source": [
    "display(purchases.index)"
   ]
  },
  {
   "cell_type": "code",
   "execution_count": 57,
   "metadata": {
    "colab": {
     "base_uri": "https://localhost:8080/",
     "height": 67
    },
    "colab_type": "code",
    "id": "brXnQmZ9q4Bo",
    "outputId": "47c8b718-8f11-42ba-d1db-c57e3a1619eb"
   },
   "outputs": [
    {
     "name": "stdout",
     "output_type": "stream",
     "text": [
      "indices are: Index(['Jane', 'Robert', 'Lily', 'David', 'Alexander'], dtype='object') \n",
      "\n",
      "columns are: Index(['apples', 'oranges', 'weekday'], dtype='object')\n"
     ]
    }
   ],
   "source": [
    "print('indices are:', purchases.index, \"\\n\")\n",
    "\n",
    "print('columns are:', purchases.columns)"
   ]
  },
  {
   "cell_type": "code",
   "execution_count": 58,
   "metadata": {
    "colab": {
     "base_uri": "https://localhost:8080/",
     "height": 34
    },
    "colab_type": "code",
    "id": "eIGCunCwro1O",
    "outputId": "48de43dc-2d4b-47ec-d416-da3d6cad8f42"
   },
   "outputs": [
    {
     "data": {
      "text/plain": [
       "2"
      ]
     },
     "metadata": {},
     "output_type": "display_data"
    }
   ],
   "source": [
    "# пересечение индексов выдаст конкретную ячейку: ищем сколько яблок купил Роберт\n",
    "\n",
    "display(purchases.loc['Robert']['apples'])\n"
   ]
  },
  {
   "cell_type": "markdown",
   "metadata": {
    "colab_type": "text",
    "id": "GxCciiSDtdu0"
   },
   "source": [
    "**Доступ к строкам по индексу** можно делать несколькими способами:\n",
    "\n",
    "```.loc``` - используется для доступа по строке\n",
    "\n",
    "```.iloc``` - используется для доступа по числовому значению (начиная от 0)"
   ]
  },
  {
   "cell_type": "code",
   "execution_count": 59,
   "metadata": {
    "colab": {
     "base_uri": "https://localhost:8080/",
     "height": 101
    },
    "colab_type": "code",
    "id": "VU6qwcJktc37",
    "outputId": "0f74852c-3340-4e28-bea8-11d7d836c8b9"
   },
   "outputs": [
    {
     "data": {
      "text/plain": [
       "apples       3\n",
       "oranges      0\n",
       "weekday    Mon\n",
       "Name: Jane, dtype: object"
      ]
     },
     "execution_count": 59,
     "metadata": {},
     "output_type": "execute_result"
    }
   ],
   "source": [
    "purchases.loc['Jane'] # по названию индекса"
   ]
  },
  {
   "cell_type": "code",
   "execution_count": 60,
   "metadata": {
    "colab": {
     "base_uri": "https://localhost:8080/",
     "height": 101
    },
    "colab_type": "code",
    "id": "M56-coqmuR_s",
    "outputId": "3a67a5e2-03a7-4314-a8a8-0b8ed522f08e"
   },
   "outputs": [
    {
     "data": {
      "text/plain": [
       "apples       3\n",
       "oranges      4\n",
       "weekday    Fri\n",
       "Name: Alexander, dtype: object"
      ]
     },
     "execution_count": 60,
     "metadata": {},
     "output_type": "execute_result"
    }
   ],
   "source": [
    "purchases.iloc[-1] # по номеру строки (у первой строки нулевой индекс)\n",
    "\n",
    "# что покажет индекс -1 ? "
   ]
  },
  {
   "cell_type": "markdown",
   "metadata": {
    "colab_type": "text",
    "id": "k2CDk4P4vHX1"
   },
   "source": [
    "### характеристики датафрейма:"
   ]
  },
  {
   "cell_type": "code",
   "execution_count": 61,
   "metadata": {
    "colab": {
     "base_uri": "https://localhost:8080/",
     "height": 34
    },
    "colab_type": "code",
    "id": "JdqZWwligQB8",
    "outputId": "20ce9fe4-9483-4706-8796-55bde062142e"
   },
   "outputs": [
    {
     "data": {
      "text/plain": [
       "(5, 3)"
      ]
     },
     "execution_count": 61,
     "metadata": {},
     "output_type": "execute_result"
    }
   ],
   "source": [
    "purchases.shape #размеры датафрейма"
   ]
  },
  {
   "cell_type": "code",
   "execution_count": 62,
   "metadata": {
    "colab": {
     "base_uri": "https://localhost:8080/",
     "height": 118
    },
    "colab_type": "code",
    "id": "hMwUjYOTfxTY",
    "outputId": "261776da-167a-4482-bc1e-6bc34c531d1b"
   },
   "outputs": [
    {
     "data": {
      "text/html": [
       "<div>\n",
       "<style scoped>\n",
       "    .dataframe tbody tr th:only-of-type {\n",
       "        vertical-align: middle;\n",
       "    }\n",
       "\n",
       "    .dataframe tbody tr th {\n",
       "        vertical-align: top;\n",
       "    }\n",
       "\n",
       "    .dataframe thead th {\n",
       "        text-align: right;\n",
       "    }\n",
       "</style>\n",
       "<table border=\"1\" class=\"dataframe\">\n",
       "  <thead>\n",
       "    <tr style=\"text-align: right;\">\n",
       "      <th></th>\n",
       "      <th>apples</th>\n",
       "      <th>oranges</th>\n",
       "      <th>weekday</th>\n",
       "    </tr>\n",
       "  </thead>\n",
       "  <tbody>\n",
       "    <tr>\n",
       "      <th>count</th>\n",
       "      <td>5</td>\n",
       "      <td>5</td>\n",
       "      <td>5</td>\n",
       "    </tr>\n",
       "    <tr>\n",
       "      <th>unique</th>\n",
       "      <td>5</td>\n",
       "      <td>5</td>\n",
       "      <td>5</td>\n",
       "    </tr>\n",
       "    <tr>\n",
       "      <th>top</th>\n",
       "      <td>3</td>\n",
       "      <td>7</td>\n",
       "      <td>Wed</td>\n",
       "    </tr>\n",
       "    <tr>\n",
       "      <th>freq</th>\n",
       "      <td>1</td>\n",
       "      <td>1</td>\n",
       "      <td>1</td>\n",
       "    </tr>\n",
       "  </tbody>\n",
       "</table>\n",
       "</div>"
      ],
      "text/plain": [
       "       apples  oranges weekday\n",
       "count       5        5       5\n",
       "unique      5        5       5\n",
       "top         3        7     Wed\n",
       "freq        1        1       1"
      ]
     },
     "execution_count": 62,
     "metadata": {},
     "output_type": "execute_result"
    }
   ],
   "source": [
    "purchases.describe()"
   ]
  },
  {
   "cell_type": "code",
   "execution_count": 63,
   "metadata": {},
   "outputs": [
    {
     "name": "stdout",
     "output_type": "stream",
     "text": [
      "<class 'pandas.core.frame.DataFrame'>\n",
      "Index: 5 entries, Jane to Alexander\n",
      "Data columns (total 3 columns):\n",
      " #   Column   Non-Null Count  Dtype \n",
      "---  ------   --------------  ----- \n",
      " 0   apples   5 non-null      object\n",
      " 1   oranges  5 non-null      object\n",
      " 2   weekday  5 non-null      object\n",
      "dtypes: object(3)\n",
      "memory usage: 320.0+ bytes\n"
     ]
    }
   ],
   "source": [
    "purchases.info()"
   ]
  },
  {
   "cell_type": "markdown",
   "metadata": {},
   "source": [
    "так можно посмотреть уникальные значения индексов:"
   ]
  },
  {
   "cell_type": "code",
   "execution_count": 64,
   "metadata": {
    "colab": {
     "base_uri": "https://localhost:8080/",
     "height": 34
    },
    "colab_type": "code",
    "id": "I2NoHqkQlDmg",
    "outputId": "76b74553-8219-421a-e125-563038325220"
   },
   "outputs": [
    {
     "data": {
      "text/plain": [
       "Index(['apples', 'oranges', 'weekday'], dtype='object')"
      ]
     },
     "execution_count": 64,
     "metadata": {},
     "output_type": "execute_result"
    }
   ],
   "source": [
    "purchases.columns.unique()"
   ]
  },
  {
   "cell_type": "code",
   "execution_count": 65,
   "metadata": {},
   "outputs": [
    {
     "data": {
      "text/plain": [
       "Index(['Jane', 'Robert', 'Lily', 'David', 'Alexander'], dtype='object')"
      ]
     },
     "execution_count": 65,
     "metadata": {},
     "output_type": "execute_result"
    }
   ],
   "source": [
    "purchases.index.unique()"
   ]
  },
  {
   "cell_type": "markdown",
   "metadata": {
    "colab_type": "text",
    "id": "ZDTCdrD6uhXl"
   },
   "source": [
    "### Сохранение в файл и чтение из файла"
   ]
  },
  {
   "cell_type": "code",
   "execution_count": 66,
   "metadata": {
    "colab": {},
    "colab_type": "code",
    "id": "u-tvDza7T8ad"
   },
   "outputs": [],
   "source": [
    "# сохраним в .csv файл\n",
    "\n",
    "purchases.to_csv('purchases.csv')"
   ]
  },
  {
   "cell_type": "code",
   "execution_count": 67,
   "metadata": {
    "colab": {
     "base_uri": "https://localhost:8080/",
     "height": 195
    },
    "colab_type": "code",
    "id": "1ngxJ2KtUeci",
    "outputId": "94531b93-a775-42a0-88c7-5ed8e493f62b"
   },
   "outputs": [
    {
     "data": {
      "text/html": [
       "<div>\n",
       "<style scoped>\n",
       "    .dataframe tbody tr th:only-of-type {\n",
       "        vertical-align: middle;\n",
       "    }\n",
       "\n",
       "    .dataframe tbody tr th {\n",
       "        vertical-align: top;\n",
       "    }\n",
       "\n",
       "    .dataframe thead th {\n",
       "        text-align: right;\n",
       "    }\n",
       "</style>\n",
       "<table border=\"1\" class=\"dataframe\">\n",
       "  <thead>\n",
       "    <tr style=\"text-align: right;\">\n",
       "      <th></th>\n",
       "      <th>Unnamed: 0</th>\n",
       "      <th>apples</th>\n",
       "      <th>oranges</th>\n",
       "      <th>weekday</th>\n",
       "    </tr>\n",
       "  </thead>\n",
       "  <tbody>\n",
       "    <tr>\n",
       "      <th>0</th>\n",
       "      <td>Jane</td>\n",
       "      <td>3</td>\n",
       "      <td>0</td>\n",
       "      <td>Mon</td>\n",
       "    </tr>\n",
       "    <tr>\n",
       "      <th>1</th>\n",
       "      <td>Robert</td>\n",
       "      <td>2</td>\n",
       "      <td>3</td>\n",
       "      <td>Wed</td>\n",
       "    </tr>\n",
       "    <tr>\n",
       "      <th>2</th>\n",
       "      <td>Lily</td>\n",
       "      <td>0</td>\n",
       "      <td>7</td>\n",
       "      <td>Thu</td>\n",
       "    </tr>\n",
       "    <tr>\n",
       "      <th>3</th>\n",
       "      <td>David</td>\n",
       "      <td>1</td>\n",
       "      <td>2</td>\n",
       "      <td>Sat</td>\n",
       "    </tr>\n",
       "    <tr>\n",
       "      <th>4</th>\n",
       "      <td>Alexander</td>\n",
       "      <td>3</td>\n",
       "      <td>4</td>\n",
       "      <td>Fri</td>\n",
       "    </tr>\n",
       "  </tbody>\n",
       "</table>\n",
       "</div>"
      ],
      "text/plain": [
       "  Unnamed: 0  apples  oranges weekday\n",
       "0       Jane       3        0     Mon\n",
       "1     Robert       2        3     Wed\n",
       "2       Lily       0        7     Thu\n",
       "3      David       1        2     Sat\n",
       "4  Alexander       3        4     Fri"
      ]
     },
     "metadata": {},
     "output_type": "display_data"
    }
   ],
   "source": [
    "# прочитаем файл\n",
    "\n",
    "df = pd.read_csv('purchases.csv')\n",
    "display(df)"
   ]
  },
  {
   "cell_type": "markdown",
   "metadata": {
    "colab_type": "text",
    "id": "IgtDJfqPKYiu"
   },
   "source": [
    "### фильтрация значений"
   ]
  },
  {
   "cell_type": "code",
   "execution_count": 68,
   "metadata": {},
   "outputs": [
    {
     "data": {
      "text/html": [
       "<div>\n",
       "<style scoped>\n",
       "    .dataframe tbody tr th:only-of-type {\n",
       "        vertical-align: middle;\n",
       "    }\n",
       "\n",
       "    .dataframe tbody tr th {\n",
       "        vertical-align: top;\n",
       "    }\n",
       "\n",
       "    .dataframe thead th {\n",
       "        text-align: right;\n",
       "    }\n",
       "</style>\n",
       "<table border=\"1\" class=\"dataframe\">\n",
       "  <thead>\n",
       "    <tr style=\"text-align: right;\">\n",
       "      <th></th>\n",
       "      <th>apples</th>\n",
       "      <th>oranges</th>\n",
       "      <th>weekday</th>\n",
       "    </tr>\n",
       "  </thead>\n",
       "  <tbody>\n",
       "    <tr>\n",
       "      <th>Alexander</th>\n",
       "      <td>3</td>\n",
       "      <td>4</td>\n",
       "      <td>Fri</td>\n",
       "    </tr>\n",
       "  </tbody>\n",
       "</table>\n",
       "</div>"
      ],
      "text/plain": [
       "          apples oranges weekday\n",
       "Alexander      3       4     Fri"
      ]
     },
     "execution_count": 68,
     "metadata": {},
     "output_type": "execute_result"
    }
   ],
   "source": [
    "purchases[purchases['weekday'] =='Fri'] # посмотрим, кто совершал покупки в пятницу"
   ]
  },
  {
   "cell_type": "code",
   "execution_count": 69,
   "metadata": {
    "colab": {},
    "colab_type": "code",
    "id": "T9Z_y0mb8lR_"
   },
   "outputs": [],
   "source": [
    "df.columns = ['names','apples','oranges',\"weekday\"]"
   ]
  },
  {
   "cell_type": "code",
   "execution_count": 70,
   "metadata": {},
   "outputs": [
    {
     "data": {
      "text/html": [
       "<div>\n",
       "<style scoped>\n",
       "    .dataframe tbody tr th:only-of-type {\n",
       "        vertical-align: middle;\n",
       "    }\n",
       "\n",
       "    .dataframe tbody tr th {\n",
       "        vertical-align: top;\n",
       "    }\n",
       "\n",
       "    .dataframe thead th {\n",
       "        text-align: right;\n",
       "    }\n",
       "</style>\n",
       "<table border=\"1\" class=\"dataframe\">\n",
       "  <thead>\n",
       "    <tr style=\"text-align: right;\">\n",
       "      <th></th>\n",
       "      <th>names</th>\n",
       "      <th>apples</th>\n",
       "      <th>oranges</th>\n",
       "      <th>weekday</th>\n",
       "    </tr>\n",
       "  </thead>\n",
       "  <tbody>\n",
       "    <tr>\n",
       "      <th>0</th>\n",
       "      <td>Jane</td>\n",
       "      <td>3</td>\n",
       "      <td>0</td>\n",
       "      <td>Mon</td>\n",
       "    </tr>\n",
       "    <tr>\n",
       "      <th>1</th>\n",
       "      <td>Robert</td>\n",
       "      <td>2</td>\n",
       "      <td>3</td>\n",
       "      <td>Wed</td>\n",
       "    </tr>\n",
       "    <tr>\n",
       "      <th>2</th>\n",
       "      <td>Lily</td>\n",
       "      <td>0</td>\n",
       "      <td>7</td>\n",
       "      <td>Thu</td>\n",
       "    </tr>\n",
       "    <tr>\n",
       "      <th>3</th>\n",
       "      <td>David</td>\n",
       "      <td>1</td>\n",
       "      <td>2</td>\n",
       "      <td>Sat</td>\n",
       "    </tr>\n",
       "    <tr>\n",
       "      <th>4</th>\n",
       "      <td>Alexander</td>\n",
       "      <td>3</td>\n",
       "      <td>4</td>\n",
       "      <td>Fri</td>\n",
       "    </tr>\n",
       "  </tbody>\n",
       "</table>\n",
       "</div>"
      ],
      "text/plain": [
       "       names  apples  oranges weekday\n",
       "0       Jane       3        0     Mon\n",
       "1     Robert       2        3     Wed\n",
       "2       Lily       0        7     Thu\n",
       "3      David       1        2     Sat\n",
       "4  Alexander       3        4     Fri"
      ]
     },
     "execution_count": 70,
     "metadata": {},
     "output_type": "execute_result"
    }
   ],
   "source": [
    "df"
   ]
  },
  {
   "cell_type": "code",
   "execution_count": 72,
   "metadata": {},
   "outputs": [
    {
     "data": {
      "text/plain": [
       "names      Lily\n",
       "apples        0\n",
       "oranges       7\n",
       "weekday     Thu\n",
       "Name: 2, dtype: object"
      ]
     },
     "execution_count": 72,
     "metadata": {},
     "output_type": "execute_result"
    }
   ],
   "source": [
    "df.iloc[2] # поиск по индексу (= по строке в табличке)"
   ]
  },
  {
   "cell_type": "code",
   "execution_count": 73,
   "metadata": {
    "colab": {
     "base_uri": "https://localhost:8080/",
     "height": 106
    },
    "colab_type": "code",
    "id": "IZas6n3v3KOH",
    "outputId": "e4276eef-f417-4785-fa6a-24e99e84feac"
   },
   "outputs": [
    {
     "data": {
      "text/html": [
       "<div>\n",
       "<style scoped>\n",
       "    .dataframe tbody tr th:only-of-type {\n",
       "        vertical-align: middle;\n",
       "    }\n",
       "\n",
       "    .dataframe tbody tr th {\n",
       "        vertical-align: top;\n",
       "    }\n",
       "\n",
       "    .dataframe thead th {\n",
       "        text-align: right;\n",
       "    }\n",
       "</style>\n",
       "<table border=\"1\" class=\"dataframe\">\n",
       "  <thead>\n",
       "    <tr style=\"text-align: right;\">\n",
       "      <th></th>\n",
       "      <th>names</th>\n",
       "      <th>apples</th>\n",
       "      <th>oranges</th>\n",
       "      <th>weekday</th>\n",
       "    </tr>\n",
       "  </thead>\n",
       "  <tbody>\n",
       "    <tr>\n",
       "      <th>0</th>\n",
       "      <td>Jane</td>\n",
       "      <td>3</td>\n",
       "      <td>0</td>\n",
       "      <td>Mon</td>\n",
       "    </tr>\n",
       "    <tr>\n",
       "      <th>1</th>\n",
       "      <td>Robert</td>\n",
       "      <td>2</td>\n",
       "      <td>3</td>\n",
       "      <td>Wed</td>\n",
       "    </tr>\n",
       "    <tr>\n",
       "      <th>4</th>\n",
       "      <td>Alexander</td>\n",
       "      <td>3</td>\n",
       "      <td>4</td>\n",
       "      <td>Fri</td>\n",
       "    </tr>\n",
       "  </tbody>\n",
       "</table>\n",
       "</div>"
      ],
      "text/plain": [
       "       names  apples  oranges weekday\n",
       "0       Jane       3        0     Mon\n",
       "1     Robert       2        3     Wed\n",
       "4  Alexander       3        4     Fri"
      ]
     },
     "execution_count": 73,
     "metadata": {},
     "output_type": "execute_result"
    }
   ],
   "source": [
    "df[df[\"apples\"] >= 2] #фильтр на значение столбца: ищем покупателей у которых 2 и более яблока"
   ]
  },
  {
   "cell_type": "code",
   "execution_count": 74,
   "metadata": {
    "colab": {
     "base_uri": "https://localhost:8080/",
     "height": 106
    },
    "colab_type": "code",
    "id": "zj9u8iag3Qc6",
    "outputId": "c7f832c3-3aaf-4bd5-8b73-d8aee7a47b97"
   },
   "outputs": [
    {
     "data": {
      "text/html": [
       "<div>\n",
       "<style scoped>\n",
       "    .dataframe tbody tr th:only-of-type {\n",
       "        vertical-align: middle;\n",
       "    }\n",
       "\n",
       "    .dataframe tbody tr th {\n",
       "        vertical-align: top;\n",
       "    }\n",
       "\n",
       "    .dataframe thead th {\n",
       "        text-align: right;\n",
       "    }\n",
       "</style>\n",
       "<table border=\"1\" class=\"dataframe\">\n",
       "  <thead>\n",
       "    <tr style=\"text-align: right;\">\n",
       "      <th></th>\n",
       "      <th>names</th>\n",
       "      <th>apples</th>\n",
       "      <th>oranges</th>\n",
       "      <th>weekday</th>\n",
       "    </tr>\n",
       "  </thead>\n",
       "  <tbody>\n",
       "    <tr>\n",
       "      <th>0</th>\n",
       "      <td>Jane</td>\n",
       "      <td>3</td>\n",
       "      <td>0</td>\n",
       "      <td>Mon</td>\n",
       "    </tr>\n",
       "    <tr>\n",
       "      <th>1</th>\n",
       "      <td>Robert</td>\n",
       "      <td>2</td>\n",
       "      <td>3</td>\n",
       "      <td>Wed</td>\n",
       "    </tr>\n",
       "    <tr>\n",
       "      <th>4</th>\n",
       "      <td>Alexander</td>\n",
       "      <td>3</td>\n",
       "      <td>4</td>\n",
       "      <td>Fri</td>\n",
       "    </tr>\n",
       "  </tbody>\n",
       "</table>\n",
       "</div>"
      ],
      "text/plain": [
       "       names  apples  oranges weekday\n",
       "0       Jane       3        0     Mon\n",
       "1     Robert       2        3     Wed\n",
       "4  Alexander       3        4     Fri"
      ]
     },
     "execution_count": 74,
     "metadata": {},
     "output_type": "execute_result"
    }
   ],
   "source": [
    "newdf = df[df[\"apples\"] >= 2]\n",
    "newdf"
   ]
  },
  {
   "cell_type": "code",
   "execution_count": 75,
   "metadata": {
    "colab": {
     "base_uri": "https://localhost:8080/",
     "height": 136
    },
    "colab_type": "code",
    "id": "hGKBGJL13r_K",
    "outputId": "ea05a1cf-4bde-4ae1-d5aa-8cfdc239dd19"
   },
   "outputs": [
    {
     "data": {
      "text/html": [
       "<div>\n",
       "<style scoped>\n",
       "    .dataframe tbody tr th:only-of-type {\n",
       "        vertical-align: middle;\n",
       "    }\n",
       "\n",
       "    .dataframe tbody tr th {\n",
       "        vertical-align: top;\n",
       "    }\n",
       "\n",
       "    .dataframe thead th {\n",
       "        text-align: right;\n",
       "    }\n",
       "</style>\n",
       "<table border=\"1\" class=\"dataframe\">\n",
       "  <thead>\n",
       "    <tr style=\"text-align: right;\">\n",
       "      <th></th>\n",
       "      <th>names</th>\n",
       "      <th>apples</th>\n",
       "      <th>oranges</th>\n",
       "      <th>weekday</th>\n",
       "    </tr>\n",
       "  </thead>\n",
       "  <tbody>\n",
       "    <tr>\n",
       "      <th>0</th>\n",
       "      <td>Jane</td>\n",
       "      <td>3</td>\n",
       "      <td>0</td>\n",
       "      <td>Mon</td>\n",
       "    </tr>\n",
       "    <tr>\n",
       "      <th>1</th>\n",
       "      <td>Robert</td>\n",
       "      <td>2</td>\n",
       "      <td>3</td>\n",
       "      <td>Wed</td>\n",
       "    </tr>\n",
       "    <tr>\n",
       "      <th>2</th>\n",
       "      <td>Lily</td>\n",
       "      <td>0</td>\n",
       "      <td>7</td>\n",
       "      <td>Thu</td>\n",
       "    </tr>\n",
       "    <tr>\n",
       "      <th>3</th>\n",
       "      <td>David</td>\n",
       "      <td>1</td>\n",
       "      <td>2</td>\n",
       "      <td>Sat</td>\n",
       "    </tr>\n",
       "    <tr>\n",
       "      <th>4</th>\n",
       "      <td>Alexander</td>\n",
       "      <td>3</td>\n",
       "      <td>4</td>\n",
       "      <td>Fri</td>\n",
       "    </tr>\n",
       "  </tbody>\n",
       "</table>\n",
       "</div>"
      ],
      "text/plain": [
       "       names  apples  oranges weekday\n",
       "0       Jane       3        0     Mon\n",
       "1     Robert       2        3     Wed\n",
       "2       Lily       0        7     Thu\n",
       "3      David       1        2     Sat\n",
       "4  Alexander       3        4     Fri"
      ]
     },
     "execution_count": 75,
     "metadata": {},
     "output_type": "execute_result"
    }
   ],
   "source": [
    "df[(df[\"apples\"] >= 0) | (df[\"oranges\"] > 0)] #ищем, кто купил хотя бы одно яблоко или апельсин"
   ]
  },
  {
   "cell_type": "markdown",
   "metadata": {},
   "source": [
    "больше про логические операторы в выражениях: [тут](https://stackoverflow.com/questions/36921951/truth-value-of-a-series-is-ambiguous-use-a-empty-a-bool-a-item-a-any-o)"
   ]
  },
  {
   "cell_type": "markdown",
   "metadata": {},
   "source": [
    "Над значениями в ячейках можно производить различные операции:\n",
    "* например, арифметические:"
   ]
  },
  {
   "cell_type": "code",
   "execution_count": 77,
   "metadata": {
    "colab": {
     "base_uri": "https://localhost:8080/",
     "height": 34
    },
    "colab_type": "code",
    "id": "pqvjgc9-4c5G",
    "outputId": "2d94487f-67a1-412f-80ad-e28d8662bc78"
   },
   "outputs": [
    {
     "name": "stdout",
     "output_type": "stream",
     "text": [
      "apples: 9 oranges: 16\n"
     ]
    }
   ],
   "source": [
    "print(\"apples:\", df[\"apples\"].sum(), \"oranges:\", df[\"oranges\"].sum())"
   ]
  },
  {
   "cell_type": "code",
   "execution_count": 79,
   "metadata": {},
   "outputs": [],
   "source": [
    "df[\"fruits\"] = df[\"apples\"]+df[\"oranges\"]"
   ]
  },
  {
   "cell_type": "code",
   "execution_count": 85,
   "metadata": {},
   "outputs": [
    {
     "data": {
      "text/html": [
       "<div>\n",
       "<style scoped>\n",
       "    .dataframe tbody tr th:only-of-type {\n",
       "        vertical-align: middle;\n",
       "    }\n",
       "\n",
       "    .dataframe tbody tr th {\n",
       "        vertical-align: top;\n",
       "    }\n",
       "\n",
       "    .dataframe thead th {\n",
       "        text-align: right;\n",
       "    }\n",
       "</style>\n",
       "<table border=\"1\" class=\"dataframe\">\n",
       "  <thead>\n",
       "    <tr style=\"text-align: right;\">\n",
       "      <th></th>\n",
       "      <th>names</th>\n",
       "      <th>apples</th>\n",
       "      <th>oranges</th>\n",
       "      <th>weekday</th>\n",
       "      <th>fruits</th>\n",
       "    </tr>\n",
       "  </thead>\n",
       "  <tbody>\n",
       "    <tr>\n",
       "      <th>0</th>\n",
       "      <td>Jane</td>\n",
       "      <td>3</td>\n",
       "      <td>0</td>\n",
       "      <td>Mon</td>\n",
       "      <td>3</td>\n",
       "    </tr>\n",
       "    <tr>\n",
       "      <th>1</th>\n",
       "      <td>Robert</td>\n",
       "      <td>2</td>\n",
       "      <td>3</td>\n",
       "      <td>Wed</td>\n",
       "      <td>5</td>\n",
       "    </tr>\n",
       "    <tr>\n",
       "      <th>2</th>\n",
       "      <td>Lily</td>\n",
       "      <td>0</td>\n",
       "      <td>7</td>\n",
       "      <td>Thu</td>\n",
       "      <td>7</td>\n",
       "    </tr>\n",
       "    <tr>\n",
       "      <th>3</th>\n",
       "      <td>David</td>\n",
       "      <td>1</td>\n",
       "      <td>2</td>\n",
       "      <td>Sat</td>\n",
       "      <td>3</td>\n",
       "    </tr>\n",
       "    <tr>\n",
       "      <th>4</th>\n",
       "      <td>Alexander</td>\n",
       "      <td>3</td>\n",
       "      <td>4</td>\n",
       "      <td>Fri</td>\n",
       "      <td>7</td>\n",
       "    </tr>\n",
       "  </tbody>\n",
       "</table>\n",
       "</div>"
      ],
      "text/plain": [
       "       names  apples  oranges weekday  fruits\n",
       "0       Jane       3        0     Mon       3\n",
       "1     Robert       2        3     Wed       5\n",
       "2       Lily       0        7     Thu       7\n",
       "3      David       1        2     Sat       3\n",
       "4  Alexander       3        4     Fri       7"
      ]
     },
     "metadata": {},
     "output_type": "display_data"
    },
    {
     "name": "stdout",
     "output_type": "stream",
     "text": [
      "\n",
      " 25  фруктов было куплено всего\n"
     ]
    }
   ],
   "source": [
    "display(df)"
   ]
  },
  {
   "cell_type": "code",
   "execution_count": 101,
   "metadata": {},
   "outputs": [
    {
     "data": {
      "text/html": [
       "<div>\n",
       "<style scoped>\n",
       "    .dataframe tbody tr th:only-of-type {\n",
       "        vertical-align: middle;\n",
       "    }\n",
       "\n",
       "    .dataframe tbody tr th {\n",
       "        vertical-align: top;\n",
       "    }\n",
       "\n",
       "    .dataframe thead th {\n",
       "        text-align: right;\n",
       "    }\n",
       "</style>\n",
       "<table border=\"1\" class=\"dataframe\">\n",
       "  <thead>\n",
       "    <tr style=\"text-align: right;\">\n",
       "      <th></th>\n",
       "      <th>names</th>\n",
       "      <th>fruits</th>\n",
       "    </tr>\n",
       "  </thead>\n",
       "  <tbody>\n",
       "    <tr>\n",
       "      <th>0</th>\n",
       "      <td>Jane</td>\n",
       "      <td>3</td>\n",
       "    </tr>\n",
       "    <tr>\n",
       "      <th>1</th>\n",
       "      <td>Robert</td>\n",
       "      <td>5</td>\n",
       "    </tr>\n",
       "    <tr>\n",
       "      <th>2</th>\n",
       "      <td>Lily</td>\n",
       "      <td>7</td>\n",
       "    </tr>\n",
       "    <tr>\n",
       "      <th>3</th>\n",
       "      <td>David</td>\n",
       "      <td>3</td>\n",
       "    </tr>\n",
       "    <tr>\n",
       "      <th>4</th>\n",
       "      <td>Alexander</td>\n",
       "      <td>7</td>\n",
       "    </tr>\n",
       "  </tbody>\n",
       "</table>\n",
       "</div>"
      ],
      "text/plain": [
       "       names  fruits\n",
       "0       Jane       3\n",
       "1     Robert       5\n",
       "2       Lily       7\n",
       "3      David       3\n",
       "4  Alexander       7"
      ]
     },
     "metadata": {},
     "output_type": "display_data"
    },
    {
     "name": "stdout",
     "output_type": "stream",
     "text": [
      "\n",
      " 25  фруктов было куплено всего\n"
     ]
    }
   ],
   "source": [
    "display(df.loc[:,[\"names\", \"fruits\"]]) \n",
    "# первый аргумент (двоеточие без индексов слева и справа) означает \"все строки\".\n",
    "#Второй аргумент -- нужные колонки\n",
    "\n",
    "print(\"\\n\",df[\"fruits\"].sum(),\" фруктов было куплено всего\")"
   ]
  },
  {
   "cell_type": "markdown",
   "metadata": {},
   "source": [
    "можно искать что-то по подстроке (найдем с помощью рег.выражения всех покупателей с буквой R/r в имени)"
   ]
  },
  {
   "cell_type": "code",
   "execution_count": 94,
   "metadata": {
    "colab": {
     "base_uri": "https://localhost:8080/",
     "height": 106
    },
    "colab_type": "code",
    "id": "sD2jyopy4tNT",
    "outputId": "ef2992da-9557-4036-adfc-615749066ef0"
   },
   "outputs": [
    {
     "data": {
      "text/html": [
       "<div>\n",
       "<style scoped>\n",
       "    .dataframe tbody tr th:only-of-type {\n",
       "        vertical-align: middle;\n",
       "    }\n",
       "\n",
       "    .dataframe tbody tr th {\n",
       "        vertical-align: top;\n",
       "    }\n",
       "\n",
       "    .dataframe thead th {\n",
       "        text-align: right;\n",
       "    }\n",
       "</style>\n",
       "<table border=\"1\" class=\"dataframe\">\n",
       "  <thead>\n",
       "    <tr style=\"text-align: right;\">\n",
       "      <th></th>\n",
       "      <th>names</th>\n",
       "      <th>apples</th>\n",
       "      <th>oranges</th>\n",
       "      <th>weekday</th>\n",
       "      <th>fruits</th>\n",
       "    </tr>\n",
       "  </thead>\n",
       "  <tbody>\n",
       "    <tr>\n",
       "      <th>1</th>\n",
       "      <td>Robert</td>\n",
       "      <td>2</td>\n",
       "      <td>3</td>\n",
       "      <td>Wed</td>\n",
       "      <td>5</td>\n",
       "    </tr>\n",
       "    <tr>\n",
       "      <th>4</th>\n",
       "      <td>Alexander</td>\n",
       "      <td>3</td>\n",
       "      <td>4</td>\n",
       "      <td>Fri</td>\n",
       "      <td>7</td>\n",
       "    </tr>\n",
       "  </tbody>\n",
       "</table>\n",
       "</div>"
      ],
      "text/plain": [
       "       names  apples  oranges weekday  fruits\n",
       "1     Robert       2        3     Wed       5\n",
       "4  Alexander       3        4     Fri       7"
      ]
     },
     "execution_count": 94,
     "metadata": {},
     "output_type": "execute_result"
    }
   ],
   "source": [
    "df[df[\"names\"].str.match(r\"(R|.+r)\")]"
   ]
  },
  {
   "cell_type": "markdown",
   "metadata": {},
   "source": [
    "усложненный поиск по индексу"
   ]
  },
  {
   "cell_type": "code",
   "execution_count": 102,
   "metadata": {
    "colab": {
     "base_uri": "https://localhost:8080/",
     "height": 136
    },
    "colab_type": "code",
    "id": "vAXbwlhM5o51",
    "outputId": "f77df1ca-90dd-44a6-c8ca-5a301f2eaae3"
   },
   "outputs": [
    {
     "data": {
      "text/html": [
       "<div>\n",
       "<style scoped>\n",
       "    .dataframe tbody tr th:only-of-type {\n",
       "        vertical-align: middle;\n",
       "    }\n",
       "\n",
       "    .dataframe tbody tr th {\n",
       "        vertical-align: top;\n",
       "    }\n",
       "\n",
       "    .dataframe thead th {\n",
       "        text-align: right;\n",
       "    }\n",
       "</style>\n",
       "<table border=\"1\" class=\"dataframe\">\n",
       "  <thead>\n",
       "    <tr style=\"text-align: right;\">\n",
       "      <th></th>\n",
       "      <th>apples</th>\n",
       "      <th>oranges</th>\n",
       "    </tr>\n",
       "  </thead>\n",
       "  <tbody>\n",
       "    <tr>\n",
       "      <th>0</th>\n",
       "      <td>3</td>\n",
       "      <td>0</td>\n",
       "    </tr>\n",
       "    <tr>\n",
       "      <th>1</th>\n",
       "      <td>2</td>\n",
       "      <td>3</td>\n",
       "    </tr>\n",
       "    <tr>\n",
       "      <th>2</th>\n",
       "      <td>0</td>\n",
       "      <td>7</td>\n",
       "    </tr>\n",
       "  </tbody>\n",
       "</table>\n",
       "</div>"
      ],
      "text/plain": [
       "   apples  oranges\n",
       "0       3        0\n",
       "1       2        3\n",
       "2       0        7"
      ]
     },
     "metadata": {},
     "output_type": "display_data"
    }
   ],
   "source": [
    "newdf = df.loc[0:2, [\"apples\", \"oranges\"]]\n",
    "# первый аргумент задает интервал индексов, второй -- нужные колонки\n",
    "display(newdf)"
   ]
  },
  {
   "cell_type": "code",
   "execution_count": 96,
   "metadata": {},
   "outputs": [
    {
     "data": {
      "text/html": [
       "<div>\n",
       "<style scoped>\n",
       "    .dataframe tbody tr th:only-of-type {\n",
       "        vertical-align: middle;\n",
       "    }\n",
       "\n",
       "    .dataframe tbody tr th {\n",
       "        vertical-align: top;\n",
       "    }\n",
       "\n",
       "    .dataframe thead th {\n",
       "        text-align: right;\n",
       "    }\n",
       "</style>\n",
       "<table border=\"1\" class=\"dataframe\">\n",
       "  <thead>\n",
       "    <tr style=\"text-align: right;\">\n",
       "      <th></th>\n",
       "      <th>apples</th>\n",
       "      <th>fruits</th>\n",
       "    </tr>\n",
       "  </thead>\n",
       "  <tbody>\n",
       "    <tr>\n",
       "      <th>0</th>\n",
       "      <td>3</td>\n",
       "      <td>3</td>\n",
       "    </tr>\n",
       "    <tr>\n",
       "      <th>1</th>\n",
       "      <td>2</td>\n",
       "      <td>5</td>\n",
       "    </tr>\n",
       "    <tr>\n",
       "      <th>2</th>\n",
       "      <td>0</td>\n",
       "      <td>7</td>\n",
       "    </tr>\n",
       "  </tbody>\n",
       "</table>\n",
       "</div>"
      ],
      "text/plain": [
       "   apples  fruits\n",
       "0       3       3\n",
       "1       2       5\n",
       "2       0       7"
      ]
     },
     "execution_count": 96,
     "metadata": {},
     "output_type": "execute_result"
    }
   ],
   "source": [
    "df.loc[0:2, [\"apples\", \"fruits\"]]"
   ]
  },
  {
   "cell_type": "markdown",
   "metadata": {
    "colab_type": "text",
    "id": "sTcd4PvP9_B4"
   },
   "source": [
    "### ДЗ\n",
    "\n",
    "давайте поизвлекаем текст из датасетов и поисследуем его"
   ]
  },
  {
   "cell_type": "code",
   "execution_count": 103,
   "metadata": {
    "colab": {},
    "colab_type": "code",
    "id": "_Wk6pwXh714y"
   },
   "outputs": [],
   "source": [
    "df = pd.read_csv('elonmusk.csv', encoding=\"utf-8\")"
   ]
  },
  {
   "cell_type": "code",
   "execution_count": 105,
   "metadata": {
    "colab": {
     "base_uri": "https://localhost:8080/",
     "height": 724
    },
    "colab_type": "code",
    "id": "2Wxh31H_-UMr",
    "outputId": "c5c1e79c-2a9e-4d3a-83f7-b9eb1399d12d"
   },
   "outputs": [
    {
     "data": {
      "text/html": [
       "<div>\n",
       "<style scoped>\n",
       "    .dataframe tbody tr th:only-of-type {\n",
       "        vertical-align: middle;\n",
       "    }\n",
       "\n",
       "    .dataframe tbody tr th {\n",
       "        vertical-align: top;\n",
       "    }\n",
       "\n",
       "    .dataframe thead th {\n",
       "        text-align: right;\n",
       "    }\n",
       "</style>\n",
       "<table border=\"1\" class=\"dataframe\">\n",
       "  <thead>\n",
       "    <tr style=\"text-align: right;\">\n",
       "      <th></th>\n",
       "      <th>id</th>\n",
       "      <th>conversation_id</th>\n",
       "      <th>created_at</th>\n",
       "      <th>date</th>\n",
       "      <th>time</th>\n",
       "      <th>timezone</th>\n",
       "      <th>user_id</th>\n",
       "      <th>username</th>\n",
       "      <th>name</th>\n",
       "      <th>place</th>\n",
       "      <th>...</th>\n",
       "      <th>geo</th>\n",
       "      <th>source</th>\n",
       "      <th>user_rt_id</th>\n",
       "      <th>user_rt</th>\n",
       "      <th>retweet_id</th>\n",
       "      <th>reply_to</th>\n",
       "      <th>retweet_date</th>\n",
       "      <th>translate</th>\n",
       "      <th>trans_src</th>\n",
       "      <th>trans_dest</th>\n",
       "    </tr>\n",
       "  </thead>\n",
       "  <tbody>\n",
       "    <tr>\n",
       "      <th>0</th>\n",
       "      <td>1282939902531796993</td>\n",
       "      <td>1282933079431151618</td>\n",
       "      <td>1594711683000</td>\n",
       "      <td>2020-07-14</td>\n",
       "      <td>07:28:03</td>\n",
       "      <td>UTC</td>\n",
       "      <td>44196397</td>\n",
       "      <td>elonmusk</td>\n",
       "      <td>Elon Musk</td>\n",
       "      <td>NaN</td>\n",
       "      <td>...</td>\n",
       "      <td>NaN</td>\n",
       "      <td>NaN</td>\n",
       "      <td>NaN</td>\n",
       "      <td>NaN</td>\n",
       "      <td>NaN</td>\n",
       "      <td>[{'user_id': '44196397', 'username': 'elonmusk...</td>\n",
       "      <td>NaN</td>\n",
       "      <td>NaN</td>\n",
       "      <td>NaN</td>\n",
       "      <td>NaN</td>\n",
       "    </tr>\n",
       "    <tr>\n",
       "      <th>1</th>\n",
       "      <td>1282844872571904000</td>\n",
       "      <td>1282801938111791104</td>\n",
       "      <td>1594689026000</td>\n",
       "      <td>2020-07-14</td>\n",
       "      <td>01:10:26</td>\n",
       "      <td>UTC</td>\n",
       "      <td>44196397</td>\n",
       "      <td>elonmusk</td>\n",
       "      <td>Elon Musk</td>\n",
       "      <td>NaN</td>\n",
       "      <td>...</td>\n",
       "      <td>NaN</td>\n",
       "      <td>NaN</td>\n",
       "      <td>NaN</td>\n",
       "      <td>NaN</td>\n",
       "      <td>NaN</td>\n",
       "      <td>[{'user_id': '44196397', 'username': 'elonmusk...</td>\n",
       "      <td>NaN</td>\n",
       "      <td>NaN</td>\n",
       "      <td>NaN</td>\n",
       "      <td>NaN</td>\n",
       "    </tr>\n",
       "    <tr>\n",
       "      <th>2</th>\n",
       "      <td>1282805559834492929</td>\n",
       "      <td>1282758532312584193</td>\n",
       "      <td>1594679653000</td>\n",
       "      <td>2020-07-13</td>\n",
       "      <td>22:34:13</td>\n",
       "      <td>UTC</td>\n",
       "      <td>44196397</td>\n",
       "      <td>elonmusk</td>\n",
       "      <td>Elon Musk</td>\n",
       "      <td>NaN</td>\n",
       "      <td>...</td>\n",
       "      <td>NaN</td>\n",
       "      <td>NaN</td>\n",
       "      <td>NaN</td>\n",
       "      <td>NaN</td>\n",
       "      <td>NaN</td>\n",
       "      <td>[{'user_id': '44196397', 'username': 'elonmusk...</td>\n",
       "      <td>NaN</td>\n",
       "      <td>NaN</td>\n",
       "      <td>NaN</td>\n",
       "      <td>NaN</td>\n",
       "    </tr>\n",
       "  </tbody>\n",
       "</table>\n",
       "<p>3 rows × 34 columns</p>\n",
       "</div>"
      ],
      "text/plain": [
       "                    id      conversation_id     created_at        date  \\\n",
       "0  1282939902531796993  1282933079431151618  1594711683000  2020-07-14   \n",
       "1  1282844872571904000  1282801938111791104  1594689026000  2020-07-14   \n",
       "2  1282805559834492929  1282758532312584193  1594679653000  2020-07-13   \n",
       "\n",
       "       time timezone   user_id  username       name  place  ... geo source  \\\n",
       "0  07:28:03      UTC  44196397  elonmusk  Elon Musk    NaN  ... NaN    NaN   \n",
       "1  01:10:26      UTC  44196397  elonmusk  Elon Musk    NaN  ... NaN    NaN   \n",
       "2  22:34:13      UTC  44196397  elonmusk  Elon Musk    NaN  ... NaN    NaN   \n",
       "\n",
       "  user_rt_id user_rt  retweet_id  \\\n",
       "0        NaN     NaN         NaN   \n",
       "1        NaN     NaN         NaN   \n",
       "2        NaN     NaN         NaN   \n",
       "\n",
       "                                            reply_to  retweet_date translate  \\\n",
       "0  [{'user_id': '44196397', 'username': 'elonmusk...           NaN       NaN   \n",
       "1  [{'user_id': '44196397', 'username': 'elonmusk...           NaN       NaN   \n",
       "2  [{'user_id': '44196397', 'username': 'elonmusk...           NaN       NaN   \n",
       "\n",
       "  trans_src trans_dest  \n",
       "0       NaN        NaN  \n",
       "1       NaN        NaN  \n",
       "2       NaN        NaN  \n",
       "\n",
       "[3 rows x 34 columns]"
      ]
     },
     "execution_count": 105,
     "metadata": {},
     "output_type": "execute_result"
    }
   ],
   "source": [
    "df.head(3) # этот метод позволяет визуально оценить датафрейм"
   ]
  },
  {
   "cell_type": "code",
   "execution_count": 107,
   "metadata": {},
   "outputs": [
    {
     "name": "stdout",
     "output_type": "stream",
     "text": [
      "<class 'pandas.core.frame.DataFrame'>\n",
      "RangeIndex: 9286 entries, 0 to 9285\n",
      "Data columns (total 34 columns):\n",
      " #   Column           Non-Null Count  Dtype  \n",
      "---  ------           --------------  -----  \n",
      " 0   id               9286 non-null   int64  \n",
      " 1   conversation_id  9286 non-null   int64  \n",
      " 2   created_at       9286 non-null   int64  \n",
      " 3   date             9286 non-null   object \n",
      " 4   time             9286 non-null   object \n",
      " 5   timezone         9286 non-null   object \n",
      " 6   user_id          9286 non-null   int64  \n",
      " 7   username         9286 non-null   object \n",
      " 8   name             9286 non-null   object \n",
      " 9   place            0 non-null      float64\n",
      " 10  tweet            9286 non-null   object \n",
      " 11  mentions         9286 non-null   object \n",
      " 12  urls             9286 non-null   object \n",
      " 13  photos           9286 non-null   object \n",
      " 14  replies_count    9286 non-null   int64  \n",
      " 15  retweets_count   9286 non-null   int64  \n",
      " 16  likes_count      9286 non-null   int64  \n",
      " 17  hashtags         9286 non-null   object \n",
      " 18  cashtags         9286 non-null   object \n",
      " 19  link             9286 non-null   object \n",
      " 20  retweet          9286 non-null   bool   \n",
      " 21  quote_url        355 non-null    object \n",
      " 22  video            9286 non-null   int64  \n",
      " 23  near             0 non-null      float64\n",
      " 24  geo              0 non-null      float64\n",
      " 25  source           0 non-null      float64\n",
      " 26  user_rt_id       0 non-null      float64\n",
      " 27  user_rt          0 non-null      float64\n",
      " 28  retweet_id       0 non-null      float64\n",
      " 29  reply_to         9286 non-null   object \n",
      " 30  retweet_date     0 non-null      float64\n",
      " 31  translate        0 non-null      float64\n",
      " 32  trans_src        0 non-null      float64\n",
      " 33  trans_dest       0 non-null      float64\n",
      "dtypes: bool(1), float64(11), int64(8), object(14)\n",
      "memory usage: 2.3+ MB\n"
     ]
    }
   ],
   "source": [
    "df.info() # вся информация о датафрейме"
   ]
  },
  {
   "cell_type": "markdown",
   "metadata": {
    "colab_type": "text",
    "id": "6tNlQH7UA5D3"
   },
   "source": [
    "### подсказка: как достать текст из колонок датафрейма"
   ]
  },
  {
   "cell_type": "code",
   "execution_count": 108,
   "metadata": {
    "colab": {
     "base_uri": "https://localhost:8080/",
     "height": 218
    },
    "colab_type": "code",
    "id": "HzcPj-VuATwj",
    "outputId": "5fcdd972-3ec1-4ea2-b538-6521260407e6"
   },
   "outputs": [
    {
     "data": {
      "text/plain": [
       "0                                                    Cute\n",
       "1                                                     Wow\n",
       "2       Reusability is essential. A rocket that is sin...\n",
       "3                                             Wild times!\n",
       "4       We’re being extra paranoid. Maximizing probabi...\n",
       "                              ...                        \n",
       "9281    Prob good though. Will give us time to replace...\n",
       "9282    Air Force tracking radar went down. Launch pos...\n",
       "9283    Rocket reentry will be much tougher this time ...\n",
       "9284    Launching our 1st deep space mission today. He...\n",
       "9285    If you are curious about the P85D, you can sch...\n",
       "Name: tweet, Length: 9286, dtype: object"
      ]
     },
     "execution_count": 108,
     "metadata": {},
     "output_type": "execute_result"
    }
   ],
   "source": [
    "df[\"tweet\"] # конкретно в этом дф тексты хранятся в колонке \"tweet\""
   ]
  },
  {
   "cell_type": "code",
   "execution_count": 110,
   "metadata": {
    "colab": {
     "base_uri": "https://localhost:8080/",
     "height": 84
    },
    "colab_type": "code",
    "id": "Qa4-GgDZAcr2",
    "outputId": "0153293c-fe8e-412a-9fa0-646c3175f035"
   },
   "outputs": [
    {
     "data": {
      "text/plain": [
       "array(['Cute', 'Wow',\n",
       "       'Reusability is essential. A rocket that is single use is just as absurd as a single use airplane. F9 engines already fire 3 times per flight.',\n",
       "       ...,\n",
       "       'Rocket reentry will be much tougher this time around due to deep space mission. Almost 2X force and 4X heat. Plenty of hydraulic fluid tho.',\n",
       "       'Launching our 1st deep space mission today. Headed to Earth-Sun L1 gravity null point at 1M miles, 4X further than moon.',\n",
       "       'If you are curious about the P85D, you can schedule a test drive here: http://ts.la/dE\\xa0'],\n",
       "      dtype=object)"
      ]
     },
     "execution_count": 110,
     "metadata": {},
     "output_type": "execute_result"
    }
   ],
   "source": [
    "df[\"tweet\"].values"
   ]
  },
  {
   "cell_type": "code",
   "execution_count": 111,
   "metadata": {
    "colab": {
     "base_uri": "https://localhost:8080/",
     "height": 1000
    },
    "colab_type": "code",
    "id": "6KB9H7SUApz7",
    "outputId": "5dc105ac-c4bb-42b9-8f6e-341654178e24"
   },
   "outputs": [],
   "source": [
    "tweets = list(df[\"tweet\"].values) # сохраним в привычный питонский список"
   ]
  },
  {
   "cell_type": "code",
   "execution_count": 112,
   "metadata": {
    "colab": {},
    "colab_type": "code",
    "id": "As8sOKx5ApIO"
   },
   "outputs": [
    {
     "data": {
      "text/plain": [
       "['Likely true',\n",
       " 'Yes',\n",
       " 'Starlink will provide global coverage',\n",
       " 'Worth discussing at annual shareholders meeting',\n",
       " 'Party on …']"
      ]
     },
     "execution_count": 112,
     "metadata": {},
     "output_type": "execute_result"
    }
   ],
   "source": [
    "tweets[200:205] # посмотрим на какие-то выборочно"
   ]
  },
  {
   "cell_type": "markdown",
   "metadata": {},
   "source": [
    "Теперь текст сохранен в переменную в виде списка, с ним можно работать стандартным образом"
   ]
  },
  {
   "cell_type": "code",
   "execution_count": null,
   "metadata": {},
   "outputs": [],
   "source": []
  },
  {
   "cell_type": "code",
   "execution_count": 2,
   "metadata": {},
   "outputs": [],
   "source": [
    "import pandas as pd"
   ]
  },
  {
   "cell_type": "code",
   "execution_count": 3,
   "metadata": {},
   "outputs": [],
   "source": [
    "# Подсчитаем кол-во уникальных слов в каждом тексте в файле dreams.csv:"
   ]
  },
  {
   "cell_type": "code",
   "execution_count": 4,
   "metadata": {},
   "outputs": [],
   "source": [
    "df = pd.read_csv('dreams.csv', encoding=\"utf-8\")"
   ]
  },
  {
   "cell_type": "code",
   "execution_count": 5,
   "metadata": {},
   "outputs": [
    {
     "data": {
      "text/html": [
       "<div>\n",
       "<style scoped>\n",
       "    .dataframe tbody tr th:only-of-type {\n",
       "        vertical-align: middle;\n",
       "    }\n",
       "\n",
       "    .dataframe tbody tr th {\n",
       "        vertical-align: top;\n",
       "    }\n",
       "\n",
       "    .dataframe thead th {\n",
       "        text-align: right;\n",
       "    }\n",
       "</style>\n",
       "<table border=\"1\" class=\"dataframe\">\n",
       "  <thead>\n",
       "    <tr style=\"text-align: right;\">\n",
       "      <th></th>\n",
       "      <th>Unnamed: 0</th>\n",
       "      <th>dreams_text</th>\n",
       "    </tr>\n",
       "  </thead>\n",
       "  <tbody>\n",
       "    <tr>\n",
       "      <th>0</th>\n",
       "      <td>0</td>\n",
       "      <td>001 Nightmare in Cambodia. In the dream we are...</td>\n",
       "    </tr>\n",
       "    <tr>\n",
       "      <th>1</th>\n",
       "      <td>1</td>\n",
       "      <td>002 The enemy is above, in the sky. We are not...</td>\n",
       "    </tr>\n",
       "    <tr>\n",
       "      <th>2</th>\n",
       "      <td>2</td>\n",
       "      <td>003 We are on a firebase. It is night time. In...</td>\n",
       "    </tr>\n",
       "    <tr>\n",
       "      <th>3</th>\n",
       "      <td>3</td>\n",
       "      <td>004 We are on an LZ; I am. saying good bye to ...</td>\n",
       "    </tr>\n",
       "    <tr>\n",
       "      <th>4</th>\n",
       "      <td>4</td>\n",
       "      <td>005 This time, it is not the popping of the tu...</td>\n",
       "    </tr>\n",
       "    <tr>\n",
       "      <th>...</th>\n",
       "      <td>...</td>\n",
       "      <td>...</td>\n",
       "    </tr>\n",
       "    <tr>\n",
       "      <th>30794</th>\n",
       "      <td>30794</td>\n",
       "      <td>Haunted by an \"evil\" presence.</td>\n",
       "    </tr>\n",
       "    <tr>\n",
       "      <th>30795</th>\n",
       "      <td>30795</td>\n",
       "      <td>Getting caught in my web of lies. By my boyfri...</td>\n",
       "    </tr>\n",
       "    <tr>\n",
       "      <th>30796</th>\n",
       "      <td>30796</td>\n",
       "      <td>Find myself walking around the yard and search...</td>\n",
       "    </tr>\n",
       "    <tr>\n",
       "      <th>30797</th>\n",
       "      <td>30797</td>\n",
       "      <td>eating my friends and family alive</td>\n",
       "    </tr>\n",
       "    <tr>\n",
       "      <th>30798</th>\n",
       "      <td>30798</td>\n",
       "      <td>Cant remember details, but there anr MANY drea...</td>\n",
       "    </tr>\n",
       "  </tbody>\n",
       "</table>\n",
       "<p>30799 rows × 2 columns</p>\n",
       "</div>"
      ],
      "text/plain": [
       "       Unnamed: 0                                        dreams_text\n",
       "0               0  001 Nightmare in Cambodia. In the dream we are...\n",
       "1               1  002 The enemy is above, in the sky. We are not...\n",
       "2               2  003 We are on a firebase. It is night time. In...\n",
       "3               3  004 We are on an LZ; I am. saying good bye to ...\n",
       "4               4  005 This time, it is not the popping of the tu...\n",
       "...           ...                                                ...\n",
       "30794       30794                     Haunted by an \"evil\" presence.\n",
       "30795       30795  Getting caught in my web of lies. By my boyfri...\n",
       "30796       30796  Find myself walking around the yard and search...\n",
       "30797       30797                 eating my friends and family alive\n",
       "30798       30798  Cant remember details, but there anr MANY drea...\n",
       "\n",
       "[30799 rows x 2 columns]"
      ]
     },
     "execution_count": 5,
     "metadata": {},
     "output_type": "execute_result"
    }
   ],
   "source": [
    "df"
   ]
  },
  {
   "cell_type": "code",
   "execution_count": 6,
   "metadata": {},
   "outputs": [],
   "source": [
    "text = [str(i) for i in df[\"dreams_text\"].values]"
   ]
  },
  {
   "cell_type": "code",
   "execution_count": 7,
   "metadata": {},
   "outputs": [],
   "source": [
    "import nltk"
   ]
  },
  {
   "cell_type": "code",
   "execution_count": 8,
   "metadata": {},
   "outputs": [],
   "source": [
    "from nltk import word_tokenize"
   ]
  },
  {
   "cell_type": "code",
   "execution_count": 9,
   "metadata": {},
   "outputs": [],
   "source": [
    "tokens = [nltk.word_tokenize(i.lower()) for i in text]"
   ]
  },
  {
   "cell_type": "code",
   "execution_count": 10,
   "metadata": {},
   "outputs": [],
   "source": [
    "# Удалим апостроф с окончанием \"-s\", \"-t\" и т.д.:"
   ]
  },
  {
   "cell_type": "code",
   "execution_count": 11,
   "metadata": {},
   "outputs": [],
   "source": [
    "import re"
   ]
  },
  {
   "cell_type": "code",
   "execution_count": 12,
   "metadata": {},
   "outputs": [],
   "source": [
    "r = re.compile(r\"(n't|n’t|’s|'s|'ll|’ll|'m|’m|'re|’re'|'ve|’ve'|'d|’d)\")\n",
    "clean_tokens = [[word for word in i if word not in filter(r.match, i)] for i in tokens]"
   ]
  },
  {
   "cell_type": "code",
   "execution_count": 13,
   "metadata": {},
   "outputs": [],
   "source": [
    "# Разделим слова, соединенные слэшем:"
   ]
  },
  {
   "cell_type": "code",
   "execution_count": 14,
   "metadata": {},
   "outputs": [],
   "source": [
    "clean_tokens = [[re.sub('(?<=[a-z])([/])(?=[a-z])', r' \\1 ', word) for word in i] for i in clean_tokens]"
   ]
  },
  {
   "cell_type": "code",
   "execution_count": 15,
   "metadata": {},
   "outputs": [],
   "source": [
    "clean_tokens = [[word for wordset in i for word in wordset.split(' ')] for i in clean_tokens]"
   ]
  },
  {
   "cell_type": "code",
   "execution_count": 16,
   "metadata": {},
   "outputs": [],
   "source": [
    "import string\n",
    "from string import punctuation"
   ]
  },
  {
   "cell_type": "code",
   "execution_count": 17,
   "metadata": {},
   "outputs": [],
   "source": [
    "string.punctuation += \"«»—…“”’/\""
   ]
  },
  {
   "cell_type": "code",
   "execution_count": 18,
   "metadata": {},
   "outputs": [],
   "source": [
    "clean_tokens = [[word.strip(string.punctuation) for word in i] for i in clean_tokens]"
   ]
  },
  {
   "cell_type": "code",
   "execution_count": 19,
   "metadata": {},
   "outputs": [],
   "source": [
    "r = re.compile(\"[a-zA-Z]\")\n",
    "clean_tokens = [[word for word in filter(r.match, i)] for i in clean_tokens]"
   ]
  },
  {
   "cell_type": "code",
   "execution_count": 20,
   "metadata": {},
   "outputs": [
    {
     "data": {
      "text/plain": [
       "['nightmare',\n",
       " 'in',\n",
       " 'cambodia',\n",
       " 'in',\n",
       " 'the',\n",
       " 'dream',\n",
       " 'we',\n",
       " 'are',\n",
       " 'being',\n",
       " 'overrun',\n",
       " 'by',\n",
       " 'sappers',\n",
       " 'who',\n",
       " 'have',\n",
       " 'got',\n",
       " 'past',\n",
       " 'the',\n",
       " 'night',\n",
       " 'defensive',\n",
       " 'perimeter',\n",
       " 'trips',\n",
       " 'and',\n",
       " 'claymores',\n",
       " 'and',\n",
       " 'now',\n",
       " 'crawl',\n",
       " 'forward',\n",
       " 'i',\n",
       " 'wake',\n",
       " 'up',\n",
       " 'and',\n",
       " 'see',\n",
       " 'a',\n",
       " 'boot',\n",
       " 'tread',\n",
       " 'close',\n",
       " 'to',\n",
       " 'my',\n",
       " 'face',\n",
       " 'i',\n",
       " 'slowly',\n",
       " 'withdraw',\n",
       " 'my',\n",
       " 'from',\n",
       " 'its',\n",
       " 'holster',\n",
       " 'pull',\n",
       " 'the',\n",
       " 'hammer',\n",
       " 'back',\n",
       " 'then',\n",
       " 'aim',\n",
       " 'it',\n",
       " 'at',\n",
       " 'the',\n",
       " 'boot',\n",
       " 'just',\n",
       " 'then',\n",
       " 'the',\n",
       " 'cloud-obscured',\n",
       " 'moon',\n",
       " 'comes',\n",
       " 'out',\n",
       " 'and',\n",
       " 'i',\n",
       " 'realize',\n",
       " 'the',\n",
       " 'boot',\n",
       " 'is',\n",
       " 'american',\n",
       " 'and',\n",
       " 'that',\n",
       " 'it',\n",
       " 'is',\n",
       " 'jerry',\n",
       " 'bieck',\n",
       " 'foot',\n",
       " 'in',\n",
       " 'the',\n",
       " 'pitch',\n",
       " 'stillness',\n",
       " 'i',\n",
       " 'point',\n",
       " 'the',\n",
       " 'straight',\n",
       " 'up',\n",
       " 'in',\n",
       " 'the',\n",
       " 'air',\n",
       " 'pinching',\n",
       " 'the',\n",
       " 'hammer',\n",
       " 'tightly',\n",
       " 'i',\n",
       " 'pull',\n",
       " 'the',\n",
       " 'trigger',\n",
       " 'and',\n",
       " 'settle',\n",
       " 'the',\n",
       " 'hammer',\n",
       " 'back',\n",
       " 'in',\n",
       " 'place',\n",
       " 'i',\n",
       " 're-holster',\n",
       " 'the',\n",
       " 'pistol',\n",
       " 'and',\n",
       " 'go',\n",
       " 'back',\n",
       " 'to',\n",
       " 'sleep',\n",
       " 'the',\n",
       " 'next',\n",
       " 'day',\n",
       " 'after',\n",
       " 'a',\n",
       " 'very',\n",
       " 'difficult',\n",
       " 'march',\n",
       " 'all',\n",
       " 'the',\n",
       " 'men',\n",
       " 'are',\n",
       " 'overjoyed',\n",
       " 'to',\n",
       " 'be',\n",
       " 'out',\n",
       " 'of',\n",
       " 'cambodia',\n",
       " 'i',\n",
       " 'tell',\n",
       " 'no',\n",
       " 'one',\n",
       " 'what',\n",
       " 'almost',\n",
       " 'happened']"
      ]
     },
     "execution_count": 20,
     "metadata": {},
     "output_type": "execute_result"
    }
   ],
   "source": [
    "clean_tokens[0]"
   ]
  },
  {
   "cell_type": "code",
   "execution_count": 21,
   "metadata": {},
   "outputs": [],
   "source": [
    "# Найдем начальную форму для каждого токена:"
   ]
  },
  {
   "cell_type": "code",
   "execution_count": 22,
   "metadata": {},
   "outputs": [],
   "source": [
    "import nltk\n",
    "from nltk.stem import WordNetLemmatizer\n",
    "lemmatizer = WordNetLemmatizer()\n",
    "from nltk.corpus import wordnet"
   ]
  },
  {
   "cell_type": "code",
   "execution_count": 23,
   "metadata": {},
   "outputs": [],
   "source": [
    "def get_wordnet_pos(word):\n",
    "    tag = nltk.pos_tag([word])[0][1][0].upper()\n",
    "    tag_dict = {\"J\": wordnet.ADJ,\n",
    "                \"N\": wordnet.NOUN,\n",
    "                \"V\": wordnet.VERB,\n",
    "                \"R\": wordnet.ADV}\n",
    "    return tag_dict.get(tag, wordnet.NOUN)"
   ]
  },
  {
   "cell_type": "code",
   "execution_count": 24,
   "metadata": {},
   "outputs": [],
   "source": [
    "lemmas = [[lemmatizer.lemmatize(word, get_wordnet_pos(word)) for word in i] for i in clean_tokens]"
   ]
  },
  {
   "cell_type": "code",
   "execution_count": 25,
   "metadata": {},
   "outputs": [],
   "source": [
    "# Удалим повторы слов:"
   ]
  },
  {
   "cell_type": "code",
   "execution_count": 26,
   "metadata": {},
   "outputs": [],
   "source": [
    "set_lem = [set(i) for i in lemmas]"
   ]
  },
  {
   "cell_type": "code",
   "execution_count": 27,
   "metadata": {},
   "outputs": [
    {
     "data": {
      "text/plain": [
       "{'a',\n",
       " 'after',\n",
       " 'aim',\n",
       " 'air',\n",
       " 'all',\n",
       " 'almost',\n",
       " 'american',\n",
       " 'and',\n",
       " 'at',\n",
       " 'back',\n",
       " 'be',\n",
       " 'bieck',\n",
       " 'boot',\n",
       " 'by',\n",
       " 'cambodia',\n",
       " 'claymore',\n",
       " 'close',\n",
       " 'cloud-obscured',\n",
       " 'come',\n",
       " 'crawl',\n",
       " 'day',\n",
       " 'defensive',\n",
       " 'difficult',\n",
       " 'dream',\n",
       " 'face',\n",
       " 'foot',\n",
       " 'forward',\n",
       " 'from',\n",
       " 'get',\n",
       " 'go',\n",
       " 'hammer',\n",
       " 'happen',\n",
       " 'have',\n",
       " 'holster',\n",
       " 'i',\n",
       " 'in',\n",
       " 'it',\n",
       " 'jerry',\n",
       " 'just',\n",
       " 'march',\n",
       " 'men',\n",
       " 'moon',\n",
       " 'my',\n",
       " 'next',\n",
       " 'night',\n",
       " 'nightmare',\n",
       " 'no',\n",
       " 'now',\n",
       " 'of',\n",
       " 'one',\n",
       " 'out',\n",
       " 'overjoyed',\n",
       " 'overrun',\n",
       " 'past',\n",
       " 'perimeter',\n",
       " 'pinch',\n",
       " 'pistol',\n",
       " 'pitch',\n",
       " 'place',\n",
       " 'point',\n",
       " 'pull',\n",
       " 're-holster',\n",
       " 'realize',\n",
       " 'sapper',\n",
       " 'see',\n",
       " 'settle',\n",
       " 'sleep',\n",
       " 'slowly',\n",
       " 'stillness',\n",
       " 'straight',\n",
       " 'tell',\n",
       " 'that',\n",
       " 'the',\n",
       " 'then',\n",
       " 'tightly',\n",
       " 'to',\n",
       " 'tread',\n",
       " 'trigger',\n",
       " 'trip',\n",
       " 'up',\n",
       " 'very',\n",
       " 'wake',\n",
       " 'we',\n",
       " 'what',\n",
       " 'who',\n",
       " 'withdraw'}"
      ]
     },
     "execution_count": 27,
     "metadata": {},
     "output_type": "execute_result"
    }
   ],
   "source": [
    "set_lem[0]"
   ]
  },
  {
   "cell_type": "code",
   "execution_count": 28,
   "metadata": {},
   "outputs": [],
   "source": [
    "# Подсчитаем, сколько всего уникальных слов в каждом тексте (слова с дефисом будем считать как целое новое слово (re-holster)):"
   ]
  },
  {
   "cell_type": "code",
   "execution_count": 29,
   "metadata": {},
   "outputs": [],
   "source": [
    "count_unique_words = [len(i) for i in set_lem]"
   ]
  },
  {
   "cell_type": "code",
   "execution_count": 30,
   "metadata": {},
   "outputs": [
    {
     "data": {
      "text/plain": [
       "[86,\n",
       " 87,\n",
       " 86,\n",
       " 206,\n",
       " 65,\n",
       " 99,\n",
       " 186,\n",
       " 134,\n",
       " 149,\n",
       " 103,\n",
       " 240,\n",
       " 72,\n",
       " 95,\n",
       " 67,\n",
       " 61,\n",
       " 130,\n",
       " 116,\n",
       " 79,\n",
       " 98,\n",
       " 111,\n",
       " 60,\n",
       " 112,\n",
       " 134,\n",
       " 155,\n",
       " 52,\n",
       " 205,\n",
       " 111,\n",
       " 130,\n",
       " 65,\n",
       " 146,\n",
       " 290,\n",
       " 111,\n",
       " 160,\n",
       " 61,\n",
       " 168,\n",
       " 107,\n",
       " 107,\n",
       " 77,\n",
       " 88,\n",
       " 34,\n",
       " 193,\n",
       " 169,\n",
       " 180,\n",
       " 59,\n",
       " 53,\n",
       " 93,\n",
       " 58,\n",
       " 49,\n",
       " 144,\n",
       " 100,\n",
       " 36,\n",
       " 92,\n",
       " 100,\n",
       " 72,\n",
       " 208,\n",
       " 36,\n",
       " 95,\n",
       " 32,\n",
       " 38,\n",
       " 56,\n",
       " 96,\n",
       " 67,\n",
       " 92,\n",
       " 48,\n",
       " 29,\n",
       " 77,\n",
       " 105,\n",
       " 112,\n",
       " 76,\n",
       " 84,\n",
       " 72,\n",
       " 112,\n",
       " 84,\n",
       " 145,\n",
       " 99,\n",
       " 54,\n",
       " 102,\n",
       " 148,\n",
       " 165,\n",
       " 88,\n",
       " 92,\n",
       " 85,\n",
       " 113,\n",
       " 108,\n",
       " 62,\n",
       " 41,\n",
       " 34,\n",
       " 57,\n",
       " 44,\n",
       " 35,\n",
       " 144,\n",
       " 151,\n",
       " 116,\n",
       " 172,\n",
       " 51,\n",
       " 139,\n",
       " 115,\n",
       " 123,\n",
       " 121,\n",
       " 130,\n",
       " 60,\n",
       " 41,\n",
       " 108,\n",
       " 57,\n",
       " 121,\n",
       " 84,\n",
       " 85,\n",
       " 38,\n",
       " 135,\n",
       " 89,\n",
       " 117,\n",
       " 92,\n",
       " 112,\n",
       " 117,\n",
       " 58,\n",
       " 140,\n",
       " 75,\n",
       " 112,\n",
       " 151,\n",
       " 102,\n",
       " 158,\n",
       " 109,\n",
       " 76,\n",
       " 239,\n",
       " 113,\n",
       " 131,\n",
       " 186,\n",
       " 37,\n",
       " 50,\n",
       " 57,\n",
       " 260,\n",
       " 95,\n",
       " 98,\n",
       " 118,\n",
       " 159,\n",
       " 116,\n",
       " 56,\n",
       " 141,\n",
       " 164,\n",
       " 93,\n",
       " 99,\n",
       " 119,\n",
       " 43,\n",
       " 70,\n",
       " 247,\n",
       " 97,\n",
       " 119,\n",
       " 82,\n",
       " 82,\n",
       " 175,\n",
       " 171,\n",
       " 88,\n",
       " 100,\n",
       " 51,\n",
       " 183,\n",
       " 82,\n",
       " 90,\n",
       " 67,\n",
       " 50,\n",
       " 53,\n",
       " 106,\n",
       " 179,\n",
       " 145,\n",
       " 72,\n",
       " 116,\n",
       " 87,\n",
       " 91,\n",
       " 43,\n",
       " 126,\n",
       " 153,\n",
       " 65,\n",
       " 123,\n",
       " 201,\n",
       " 101,\n",
       " 55,\n",
       " 105,\n",
       " 145,\n",
       " 165,\n",
       " 136,\n",
       " 118,\n",
       " 100,\n",
       " 49,\n",
       " 221,\n",
       " 77,\n",
       " 233,\n",
       " 138,\n",
       " 97,\n",
       " 98,\n",
       " 88,\n",
       " 79,\n",
       " 87,\n",
       " 146,\n",
       " 96,\n",
       " 150,\n",
       " 77,\n",
       " 187,\n",
       " 46,\n",
       " 76,\n",
       " 140,\n",
       " 75,\n",
       " 29,\n",
       " 60,\n",
       " 113,\n",
       " 101,\n",
       " 12,\n",
       " 116,\n",
       " 167,\n",
       " 213,\n",
       " 50,\n",
       " 138,\n",
       " 92,\n",
       " 77,\n",
       " 86,\n",
       " 96,\n",
       " 72,\n",
       " 72,\n",
       " 145,\n",
       " 120,\n",
       " 29,\n",
       " 133,\n",
       " 72,\n",
       " 84,\n",
       " 77,\n",
       " 159,\n",
       " 64,\n",
       " 50,\n",
       " 61,\n",
       " 128,\n",
       " 84,\n",
       " 56,\n",
       " 96,\n",
       " 98,\n",
       " 71,\n",
       " 71,\n",
       " 98,\n",
       " 94,\n",
       " 114,\n",
       " 100,\n",
       " 179,\n",
       " 189,\n",
       " 72,\n",
       " 102,\n",
       " 51,\n",
       " 63,\n",
       " 108,\n",
       " 76,\n",
       " 80,\n",
       " 80,\n",
       " 186,\n",
       " 18,\n",
       " 126,\n",
       " 53,\n",
       " 129,\n",
       " 75,\n",
       " 54,\n",
       " 125,\n",
       " 105,\n",
       " 81,\n",
       " 142,\n",
       " 92,\n",
       " 72,\n",
       " 91,\n",
       " 94,\n",
       " 24,\n",
       " 150,\n",
       " 139,\n",
       " 105,\n",
       " 142,\n",
       " 93,\n",
       " 144,\n",
       " 142,\n",
       " 99,\n",
       " 11,\n",
       " 89,\n",
       " 11,\n",
       " 85,\n",
       " 114,\n",
       " 150,\n",
       " 118,\n",
       " 113,\n",
       " 120,\n",
       " 113,\n",
       " 66,\n",
       " 111,\n",
       " 75,\n",
       " 83,\n",
       " 48,\n",
       " 62,\n",
       " 101,\n",
       " 55,\n",
       " 54,\n",
       " 81,\n",
       " 83,\n",
       " 42,\n",
       " 160,\n",
       " 68,\n",
       " 99,\n",
       " 113,\n",
       " 96,\n",
       " 83,\n",
       " 144,\n",
       " 105,\n",
       " 104,\n",
       " 90,\n",
       " 89,\n",
       " 99,\n",
       " 180,\n",
       " 75,\n",
       " 78,\n",
       " 77,\n",
       " 127,\n",
       " 29,\n",
       " 91,\n",
       " 24,\n",
       " 108,\n",
       " 149,\n",
       " 88,\n",
       " 153,\n",
       " 135,\n",
       " 120,\n",
       " 64,\n",
       " 112,\n",
       " 90,\n",
       " 77,\n",
       " 123,\n",
       " 121,\n",
       " 87,\n",
       " 116,\n",
       " 103,\n",
       " 125,\n",
       " 126,\n",
       " 96,\n",
       " 86,\n",
       " 138,\n",
       " 127,\n",
       " 112,\n",
       " 162,\n",
       " 91,\n",
       " 119,\n",
       " 136,\n",
       " 20,\n",
       " 165,\n",
       " 105,\n",
       " 201,\n",
       " 14,\n",
       " 111,\n",
       " 125,\n",
       " 187,\n",
       " 99,\n",
       " 211,\n",
       " 118,\n",
       " 197,\n",
       " 197,\n",
       " 156,\n",
       " 85,\n",
       " 107,\n",
       " 97,\n",
       " 81,\n",
       " 192,\n",
       " 100,\n",
       " 171,\n",
       " 124,\n",
       " 119,\n",
       " 98,\n",
       " 205,\n",
       " 102,\n",
       " 93,\n",
       " 80,\n",
       " 186,\n",
       " 108,\n",
       " 138,\n",
       " 114,\n",
       " 170,\n",
       " 89,\n",
       " 104,\n",
       " 99,\n",
       " 147,\n",
       " 140,\n",
       " 69,\n",
       " 68,\n",
       " 127,\n",
       " 73,\n",
       " 104,\n",
       " 91,\n",
       " 55,\n",
       " 146,\n",
       " 79,\n",
       " 81,\n",
       " 88,\n",
       " 146,\n",
       " 265,\n",
       " 80,\n",
       " 81,\n",
       " 75,\n",
       " 166,\n",
       " 190,\n",
       " 126,\n",
       " 79,\n",
       " 139,\n",
       " 157,\n",
       " 121,\n",
       " 104,\n",
       " 129,\n",
       " 198,\n",
       " 173,\n",
       " 98,\n",
       " 137,\n",
       " 187,\n",
       " 204,\n",
       " 155,\n",
       " 149,\n",
       " 98,\n",
       " 156,\n",
       " 102,\n",
       " 49,\n",
       " 71,\n",
       " 156,\n",
       " 123,\n",
       " 63,\n",
       " 131,\n",
       " 101,\n",
       " 116,\n",
       " 134,\n",
       " 140,\n",
       " 197,\n",
       " 55,\n",
       " 91,\n",
       " 165,\n",
       " 145,\n",
       " 167,\n",
       " 89,\n",
       " 100,\n",
       " 245,\n",
       " 195,\n",
       " 67,\n",
       " 121,\n",
       " 194,\n",
       " 191,\n",
       " 51,\n",
       " 81,\n",
       " 128,\n",
       " 88,\n",
       " 66,\n",
       " 180,\n",
       " 258,\n",
       " 86,\n",
       " 164,\n",
       " 194,\n",
       " 105,\n",
       " 169,\n",
       " 116,\n",
       " 149,\n",
       " 86,\n",
       " 167,\n",
       " 248,\n",
       " 60,\n",
       " 161,\n",
       " 129,\n",
       " 26,\n",
       " 106,\n",
       " 74,\n",
       " 114,\n",
       " 161,\n",
       " 96,\n",
       " 229,\n",
       " 143,\n",
       " 256,\n",
       " 55,\n",
       " 123,\n",
       " 125,\n",
       " 101,\n",
       " 210,\n",
       " 90,\n",
       " 70,\n",
       " 100,\n",
       " 102,\n",
       " 138,\n",
       " 136,\n",
       " 150,\n",
       " 151,\n",
       " 108,\n",
       " 99,\n",
       " 64,\n",
       " 69,\n",
       " 67,\n",
       " 91,\n",
       " 143,\n",
       " 103,\n",
       " 51,\n",
       " 115,\n",
       " 180,\n",
       " 135,\n",
       " 331,\n",
       " 204,\n",
       " 210,\n",
       " 176,\n",
       " 83,\n",
       " 82,\n",
       " 94,\n",
       " 83,\n",
       " 174,\n",
       " 66,\n",
       " 84,\n",
       " 187,\n",
       " 104,\n",
       " 105,\n",
       " 50,\n",
       " 78,\n",
       " 82,\n",
       " 90,\n",
       " 84,\n",
       " 83,\n",
       " 115,\n",
       " 68,\n",
       " 95,\n",
       " 277,\n",
       " 80,\n",
       " 111,\n",
       " 276,\n",
       " 87,\n",
       " 234,\n",
       " 136,\n",
       " 95,\n",
       " 129,\n",
       " 136,\n",
       " 103,\n",
       " 95,\n",
       " 123,\n",
       " 88,\n",
       " 104,\n",
       " 154,\n",
       " 74,\n",
       " 85,\n",
       " 240,\n",
       " 128,\n",
       " 77,\n",
       " 45,\n",
       " 92,\n",
       " 78,\n",
       " 176,\n",
       " 103,\n",
       " 160,\n",
       " 135,\n",
       " 185,\n",
       " 159,\n",
       " 71,\n",
       " 153,\n",
       " 103,\n",
       " 284,\n",
       " 251,\n",
       " 92,\n",
       " 38,\n",
       " 102,\n",
       " 200,\n",
       " 99,\n",
       " 155,\n",
       " 68,\n",
       " 133,\n",
       " 88,\n",
       " 97,\n",
       " 284,\n",
       " 98,\n",
       " 51,\n",
       " 173,\n",
       " 129,\n",
       " 214,\n",
       " 150,\n",
       " 152,\n",
       " 126,\n",
       " 158,\n",
       " 138,\n",
       " 164,\n",
       " 230,\n",
       " 126,\n",
       " 146,\n",
       " 146,\n",
       " 242,\n",
       " 132,\n",
       " 116,\n",
       " 75,\n",
       " 205,\n",
       " 167,\n",
       " 154,\n",
       " 92,\n",
       " 108,\n",
       " 104,\n",
       " 128,\n",
       " 120,\n",
       " 79,\n",
       " 70,\n",
       " 118,\n",
       " 139,\n",
       " 89,\n",
       " 155,\n",
       " 155,\n",
       " 73,\n",
       " 123,\n",
       " 110,\n",
       " 73,\n",
       " 100,\n",
       " 161,\n",
       " 214,\n",
       " 204,\n",
       " 129,\n",
       " 21,\n",
       " 54,\n",
       " 31,\n",
       " 63,\n",
       " 168,\n",
       " 87,\n",
       " 195,\n",
       " 172,\n",
       " 117,\n",
       " 179,\n",
       " 134,\n",
       " 168,\n",
       " 80,\n",
       " 129,\n",
       " 66,\n",
       " 183,\n",
       " 182,\n",
       " 182,\n",
       " 136,\n",
       " 168,\n",
       " 62,\n",
       " 131,\n",
       " 23,\n",
       " 108,\n",
       " 71,\n",
       " 60,\n",
       " 68,\n",
       " 149,\n",
       " 94,\n",
       " 153,\n",
       " 106,\n",
       " 89,\n",
       " 69,\n",
       " 204,\n",
       " 81,\n",
       " 116,\n",
       " 76,\n",
       " 130,\n",
       " 133,\n",
       " 164,\n",
       " 91,\n",
       " 70,\n",
       " 90,\n",
       " 167,\n",
       " 75,\n",
       " 132,\n",
       " 179,\n",
       " 151,\n",
       " 79,\n",
       " 217,\n",
       " 104,\n",
       " 39,\n",
       " 71,\n",
       " 88,\n",
       " 109,\n",
       " 59,\n",
       " 89,\n",
       " 331,\n",
       " 104,\n",
       " 131,\n",
       " 276,\n",
       " 115,\n",
       " 58,\n",
       " 169,\n",
       " 47,\n",
       " 116,\n",
       " 116,\n",
       " 20,\n",
       " 36,\n",
       " 89,\n",
       " 56,\n",
       " 30,\n",
       " 64,\n",
       " 30,\n",
       " 37,\n",
       " 170,\n",
       " 55,\n",
       " 267,\n",
       " 108,\n",
       " 216,\n",
       " 72,\n",
       " 140,\n",
       " 7,\n",
       " 266,\n",
       " 36,\n",
       " 37,\n",
       " 172,\n",
       " 244,\n",
       " 42,\n",
       " 34,\n",
       " 124,\n",
       " 243,\n",
       " 93,\n",
       " 29,\n",
       " 238,\n",
       " 90,\n",
       " 331,\n",
       " 10,\n",
       " 94,\n",
       " 158,\n",
       " 252,\n",
       " 89,\n",
       " 127,\n",
       " 262,\n",
       " 113,\n",
       " 21,\n",
       " 92,\n",
       " 30,\n",
       " 155,\n",
       " 147,\n",
       " 96,\n",
       " 73,\n",
       " 144,\n",
       " 128,\n",
       " 72,\n",
       " 81,\n",
       " 97,\n",
       " 45,\n",
       " 205,\n",
       " 14,\n",
       " 47,\n",
       " 225,\n",
       " 82,\n",
       " 11,\n",
       " 210,\n",
       " 148,\n",
       " 8,\n",
       " 242,\n",
       " 159,\n",
       " 112,\n",
       " 67,\n",
       " 44,\n",
       " 92,\n",
       " 176,\n",
       " 265,\n",
       " 32,\n",
       " 89,\n",
       " 208,\n",
       " 184,\n",
       " 115,\n",
       " 328,\n",
       " 143,\n",
       " 203,\n",
       " 137,\n",
       " 135,\n",
       " 211,\n",
       " 258,\n",
       " 187,\n",
       " 128,\n",
       " 96,\n",
       " 142,\n",
       " 53,\n",
       " 79,\n",
       " 80,\n",
       " 175,\n",
       " 118,\n",
       " 54,\n",
       " 119,\n",
       " 20,\n",
       " 56,\n",
       " 191,\n",
       " 77,\n",
       " 159,\n",
       " 46,\n",
       " 232,\n",
       " 103,\n",
       " 97,\n",
       " 28,\n",
       " 277,\n",
       " 166,\n",
       " 36,\n",
       " 31,\n",
       " 103,\n",
       " 49,\n",
       " 284,\n",
       " 15,\n",
       " 46,\n",
       " 141,\n",
       " 5,\n",
       " 141,\n",
       " 63,\n",
       " 30,\n",
       " 213,\n",
       " 79,\n",
       " 169,\n",
       " 52,\n",
       " 42,\n",
       " 135,\n",
       " 18,\n",
       " 95,\n",
       " 208,\n",
       " 99,\n",
       " 11,\n",
       " 142,\n",
       " 7,\n",
       " 77,\n",
       " 118,\n",
       " 14,\n",
       " 174,\n",
       " 13,\n",
       " 157,\n",
       " 54,\n",
       " 12,\n",
       " 92,\n",
       " 220,\n",
       " 128,\n",
       " 133,\n",
       " 42,\n",
       " 21,\n",
       " 71,\n",
       " 73,\n",
       " 155,\n",
       " 37,\n",
       " 335,\n",
       " 23,\n",
       " 103,\n",
       " 16,\n",
       " 163,\n",
       " 16,\n",
       " 12,\n",
       " 131,\n",
       " 25,\n",
       " 8,\n",
       " 99,\n",
       " 18,\n",
       " 26,\n",
       " 145,\n",
       " 20,\n",
       " 6,\n",
       " 145,\n",
       " 30,\n",
       " 149,\n",
       " 39,\n",
       " 23,\n",
       " 60,\n",
       " 85,\n",
       " 28,\n",
       " 9,\n",
       " 14,\n",
       " 226,\n",
       " 46,\n",
       " 250,\n",
       " 46,\n",
       " 135,\n",
       " 50,\n",
       " 34,\n",
       " 34,\n",
       " 33,\n",
       " 28,\n",
       " 43,\n",
       " 35,\n",
       " 19,\n",
       " 18,\n",
       " 28,\n",
       " 47,\n",
       " 131,\n",
       " 58,\n",
       " 87,\n",
       " 50,\n",
       " 88,\n",
       " 158,\n",
       " 11,\n",
       " 10,\n",
       " 13,\n",
       " 76,\n",
       " 129,\n",
       " 138,\n",
       " 74,\n",
       " 22,\n",
       " 96,\n",
       " 16,\n",
       " 104,\n",
       " 102,\n",
       " 73,\n",
       " 49,\n",
       " 17,\n",
       " 162,\n",
       " 35,\n",
       " 118,\n",
       " 64,\n",
       " 31,\n",
       " 103,\n",
       " 189,\n",
       " 12,\n",
       " 47,\n",
       " 50,\n",
       " 60,\n",
       " 29,\n",
       " 48,\n",
       " 68,\n",
       " 40,\n",
       " 37,\n",
       " 18,\n",
       " 21,\n",
       " 151,\n",
       " 16,\n",
       " 96,\n",
       " 74,\n",
       " 113,\n",
       " 7,\n",
       " 36,\n",
       " 125,\n",
       " 34,\n",
       " 5,\n",
       " 81,\n",
       " 61,\n",
       " 21,\n",
       " 95,\n",
       " 139,\n",
       " 12,\n",
       " 15,\n",
       " 7,\n",
       " 105,\n",
       " 20,\n",
       " 36,\n",
       " 30,\n",
       " 66,\n",
       " 77,\n",
       " 46,\n",
       " 133,\n",
       " 54,\n",
       " 122,\n",
       " 152,\n",
       " 15,\n",
       " 99,\n",
       " 19,\n",
       " 130,\n",
       " 140,\n",
       " 130,\n",
       " 21,\n",
       " 51,\n",
       " 99,\n",
       " 43,\n",
       " 252,\n",
       " 180,\n",
       " 108,\n",
       " 90,\n",
       " 30,\n",
       " 148,\n",
       " 131,\n",
       " 83,\n",
       " 164,\n",
       " 118,\n",
       " 130,\n",
       " 10,\n",
       " 158,\n",
       " 283,\n",
       " 91,\n",
       " 135,\n",
       " 162,\n",
       " 223,\n",
       " 210,\n",
       " 124,\n",
       " 153,\n",
       " 150,\n",
       " 19,\n",
       " 136,\n",
       " 30,\n",
       " 164,\n",
       " 113,\n",
       " 133,\n",
       " 47,\n",
       " 19,\n",
       " 144,\n",
       " 82,\n",
       " 90,\n",
       " 48,\n",
       " 188,\n",
       " 65,\n",
       " 32,\n",
       " 196,\n",
       " 137,\n",
       " 182,\n",
       " 95,\n",
       " 109,\n",
       " 56,\n",
       " 58,\n",
       " 37,\n",
       " 92,\n",
       " 25,\n",
       " 16,\n",
       " 182,\n",
       " 29,\n",
       " 21,\n",
       " 56,\n",
       " 30,\n",
       " 127,\n",
       " 170,\n",
       " 14,\n",
       " 58,\n",
       " 58,\n",
       " 199,\n",
       " 123,\n",
       " 18,\n",
       " 46,\n",
       " 159,\n",
       " ...]"
      ]
     },
     "execution_count": 30,
     "metadata": {},
     "output_type": "execute_result"
    }
   ],
   "source": [
    "count_unique_words"
   ]
  },
  {
   "cell_type": "code",
   "execution_count": 31,
   "metadata": {},
   "outputs": [],
   "source": [
    "df['Words_count'] = count_unique_words"
   ]
  },
  {
   "cell_type": "code",
   "execution_count": 32,
   "metadata": {},
   "outputs": [
    {
     "data": {
      "text/html": [
       "<div>\n",
       "<style scoped>\n",
       "    .dataframe tbody tr th:only-of-type {\n",
       "        vertical-align: middle;\n",
       "    }\n",
       "\n",
       "    .dataframe tbody tr th {\n",
       "        vertical-align: top;\n",
       "    }\n",
       "\n",
       "    .dataframe thead th {\n",
       "        text-align: right;\n",
       "    }\n",
       "</style>\n",
       "<table border=\"1\" class=\"dataframe\">\n",
       "  <thead>\n",
       "    <tr style=\"text-align: right;\">\n",
       "      <th></th>\n",
       "      <th>Unnamed: 0</th>\n",
       "      <th>dreams_text</th>\n",
       "      <th>Words_count</th>\n",
       "    </tr>\n",
       "  </thead>\n",
       "  <tbody>\n",
       "    <tr>\n",
       "      <th>0</th>\n",
       "      <td>0</td>\n",
       "      <td>001 Nightmare in Cambodia. In the dream we are...</td>\n",
       "      <td>86</td>\n",
       "    </tr>\n",
       "    <tr>\n",
       "      <th>1</th>\n",
       "      <td>1</td>\n",
       "      <td>002 The enemy is above, in the sky. We are not...</td>\n",
       "      <td>87</td>\n",
       "    </tr>\n",
       "    <tr>\n",
       "      <th>2</th>\n",
       "      <td>2</td>\n",
       "      <td>003 We are on a firebase. It is night time. In...</td>\n",
       "      <td>86</td>\n",
       "    </tr>\n",
       "    <tr>\n",
       "      <th>3</th>\n",
       "      <td>3</td>\n",
       "      <td>004 We are on an LZ; I am. saying good bye to ...</td>\n",
       "      <td>206</td>\n",
       "    </tr>\n",
       "    <tr>\n",
       "      <th>4</th>\n",
       "      <td>4</td>\n",
       "      <td>005 This time, it is not the popping of the tu...</td>\n",
       "      <td>65</td>\n",
       "    </tr>\n",
       "    <tr>\n",
       "      <th>...</th>\n",
       "      <td>...</td>\n",
       "      <td>...</td>\n",
       "      <td>...</td>\n",
       "    </tr>\n",
       "    <tr>\n",
       "      <th>30794</th>\n",
       "      <td>30794</td>\n",
       "      <td>Haunted by an \"evil\" presence.</td>\n",
       "      <td>5</td>\n",
       "    </tr>\n",
       "    <tr>\n",
       "      <th>30795</th>\n",
       "      <td>30795</td>\n",
       "      <td>Getting caught in my web of lies. By my boyfri...</td>\n",
       "      <td>34</td>\n",
       "    </tr>\n",
       "    <tr>\n",
       "      <th>30796</th>\n",
       "      <td>30796</td>\n",
       "      <td>Find myself walking around the yard and search...</td>\n",
       "      <td>82</td>\n",
       "    </tr>\n",
       "    <tr>\n",
       "      <th>30797</th>\n",
       "      <td>30797</td>\n",
       "      <td>eating my friends and family alive</td>\n",
       "      <td>6</td>\n",
       "    </tr>\n",
       "    <tr>\n",
       "      <th>30798</th>\n",
       "      <td>30798</td>\n",
       "      <td>Cant remember details, but there anr MANY drea...</td>\n",
       "      <td>61</td>\n",
       "    </tr>\n",
       "  </tbody>\n",
       "</table>\n",
       "<p>30799 rows × 3 columns</p>\n",
       "</div>"
      ],
      "text/plain": [
       "       Unnamed: 0                                        dreams_text  \\\n",
       "0               0  001 Nightmare in Cambodia. In the dream we are...   \n",
       "1               1  002 The enemy is above, in the sky. We are not...   \n",
       "2               2  003 We are on a firebase. It is night time. In...   \n",
       "3               3  004 We are on an LZ; I am. saying good bye to ...   \n",
       "4               4  005 This time, it is not the popping of the tu...   \n",
       "...           ...                                                ...   \n",
       "30794       30794                     Haunted by an \"evil\" presence.   \n",
       "30795       30795  Getting caught in my web of lies. By my boyfri...   \n",
       "30796       30796  Find myself walking around the yard and search...   \n",
       "30797       30797                 eating my friends and family alive   \n",
       "30798       30798  Cant remember details, but there anr MANY drea...   \n",
       "\n",
       "       Words_count  \n",
       "0               86  \n",
       "1               87  \n",
       "2               86  \n",
       "3              206  \n",
       "4               65  \n",
       "...            ...  \n",
       "30794            5  \n",
       "30795           34  \n",
       "30796           82  \n",
       "30797            6  \n",
       "30798           61  \n",
       "\n",
       "[30799 rows x 3 columns]"
      ]
     },
     "execution_count": 32,
     "metadata": {},
     "output_type": "execute_result"
    }
   ],
   "source": [
    "df"
   ]
  },
  {
   "cell_type": "code",
   "execution_count": 33,
   "metadata": {},
   "outputs": [],
   "source": [
    "# Найдем текст с максимальным количеством уникальных слов:"
   ]
  },
  {
   "cell_type": "code",
   "execution_count": 34,
   "metadata": {},
   "outputs": [
    {
     "data": {
      "text/plain": [
       "552"
      ]
     },
     "execution_count": 34,
     "metadata": {},
     "output_type": "execute_result"
    }
   ],
   "source": [
    "max(df['Words_count'])"
   ]
  },
  {
   "cell_type": "code",
   "execution_count": 35,
   "metadata": {},
   "outputs": [
    {
     "data": {
      "text/html": [
       "<div>\n",
       "<style scoped>\n",
       "    .dataframe tbody tr th:only-of-type {\n",
       "        vertical-align: middle;\n",
       "    }\n",
       "\n",
       "    .dataframe tbody tr th {\n",
       "        vertical-align: top;\n",
       "    }\n",
       "\n",
       "    .dataframe thead th {\n",
       "        text-align: right;\n",
       "    }\n",
       "</style>\n",
       "<table border=\"1\" class=\"dataframe\">\n",
       "  <thead>\n",
       "    <tr style=\"text-align: right;\">\n",
       "      <th></th>\n",
       "      <th>Unnamed: 0</th>\n",
       "      <th>dreams_text</th>\n",
       "      <th>Words_count</th>\n",
       "    </tr>\n",
       "  </thead>\n",
       "  <tbody>\n",
       "    <tr>\n",
       "      <th>2303</th>\n",
       "      <td>2303</td>\n",
       "      <td>It was a holiday, and to celebrate I entered a...</td>\n",
       "      <td>552</td>\n",
       "    </tr>\n",
       "  </tbody>\n",
       "</table>\n",
       "</div>"
      ],
      "text/plain": [
       "      Unnamed: 0                                        dreams_text  \\\n",
       "2303        2303  It was a holiday, and to celebrate I entered a...   \n",
       "\n",
       "      Words_count  \n",
       "2303          552  "
      ]
     },
     "execution_count": 35,
     "metadata": {},
     "output_type": "execute_result"
    }
   ],
   "source": [
    "df[df['Words_count'] == 552]"
   ]
  },
  {
   "cell_type": "code",
   "execution_count": 36,
   "metadata": {},
   "outputs": [],
   "source": [
    "# С минимальным количеством уникальных слов:"
   ]
  },
  {
   "cell_type": "code",
   "execution_count": 37,
   "metadata": {},
   "outputs": [
    {
     "data": {
      "text/plain": [
       "0"
      ]
     },
     "execution_count": 37,
     "metadata": {},
     "output_type": "execute_result"
    }
   ],
   "source": [
    "min(df['Words_count'])"
   ]
  },
  {
   "cell_type": "code",
   "execution_count": 38,
   "metadata": {},
   "outputs": [
    {
     "data": {
      "text/html": [
       "<div>\n",
       "<style scoped>\n",
       "    .dataframe tbody tr th:only-of-type {\n",
       "        vertical-align: middle;\n",
       "    }\n",
       "\n",
       "    .dataframe tbody tr th {\n",
       "        vertical-align: top;\n",
       "    }\n",
       "\n",
       "    .dataframe thead th {\n",
       "        text-align: right;\n",
       "    }\n",
       "</style>\n",
       "<table border=\"1\" class=\"dataframe\">\n",
       "  <thead>\n",
       "    <tr style=\"text-align: right;\">\n",
       "      <th></th>\n",
       "      <th>Unnamed: 0</th>\n",
       "      <th>dreams_text</th>\n",
       "      <th>Words_count</th>\n",
       "    </tr>\n",
       "  </thead>\n",
       "  <tbody>\n",
       "    <tr>\n",
       "      <th>3663</th>\n",
       "      <td>3663</td>\n",
       "      <td>????</td>\n",
       "      <td>0</td>\n",
       "    </tr>\n",
       "    <tr>\n",
       "      <th>4019</th>\n",
       "      <td>4019</td>\n",
       "      <td>??</td>\n",
       "      <td>0</td>\n",
       "    </tr>\n",
       "    <tr>\n",
       "      <th>4279</th>\n",
       "      <td>4279</td>\n",
       "      <td>.</td>\n",
       "      <td>0</td>\n",
       "    </tr>\n",
       "    <tr>\n",
       "      <th>4340</th>\n",
       "      <td>4340</td>\n",
       "      <td>,</td>\n",
       "      <td>0</td>\n",
       "    </tr>\n",
       "    <tr>\n",
       "      <th>5063</th>\n",
       "      <td>5063</td>\n",
       "      <td>'</td>\n",
       "      <td>0</td>\n",
       "    </tr>\n",
       "    <tr>\n",
       "      <th>5081</th>\n",
       "      <td>5081</td>\n",
       "      <td>\\r\\n</td>\n",
       "      <td>0</td>\n",
       "    </tr>\n",
       "    <tr>\n",
       "      <th>6585</th>\n",
       "      <td>6585</td>\n",
       "      <td>?</td>\n",
       "      <td>0</td>\n",
       "    </tr>\n",
       "    <tr>\n",
       "      <th>6621</th>\n",
       "      <td>6621</td>\n",
       "      <td>????????????</td>\n",
       "      <td>0</td>\n",
       "    </tr>\n",
       "    <tr>\n",
       "      <th>6829</th>\n",
       "      <td>6829</td>\n",
       "      <td>--</td>\n",
       "      <td>0</td>\n",
       "    </tr>\n",
       "    <tr>\n",
       "      <th>7069</th>\n",
       "      <td>7069</td>\n",
       "      <td>...</td>\n",
       "      <td>0</td>\n",
       "    </tr>\n",
       "    <tr>\n",
       "      <th>7686</th>\n",
       "      <td>7686</td>\n",
       "      <td>....</td>\n",
       "      <td>0</td>\n",
       "    </tr>\n",
       "    <tr>\n",
       "      <th>11442</th>\n",
       "      <td>11442</td>\n",
       "      <td>1111111</td>\n",
       "      <td>0</td>\n",
       "    </tr>\n",
       "    <tr>\n",
       "      <th>11754</th>\n",
       "      <td>11754</td>\n",
       "      <td>0</td>\n",
       "      <td>0</td>\n",
       "    </tr>\n",
       "    <tr>\n",
       "      <th>15067</th>\n",
       "      <td>15067</td>\n",
       "      <td>-</td>\n",
       "      <td>0</td>\n",
       "    </tr>\n",
       "    <tr>\n",
       "      <th>15429</th>\n",
       "      <td>15429</td>\n",
       "      <td>=</td>\n",
       "      <td>0</td>\n",
       "    </tr>\n",
       "    <tr>\n",
       "      <th>16686</th>\n",
       "      <td>16686</td>\n",
       "      <td>.......</td>\n",
       "      <td>0</td>\n",
       "    </tr>\n",
       "    <tr>\n",
       "      <th>16956</th>\n",
       "      <td>16956</td>\n",
       "      <td>111111111</td>\n",
       "      <td>0</td>\n",
       "    </tr>\n",
       "    <tr>\n",
       "      <th>28129</th>\n",
       "      <td>28129</td>\n",
       "      <td>/</td>\n",
       "      <td>0</td>\n",
       "    </tr>\n",
       "    <tr>\n",
       "      <th>28718</th>\n",
       "      <td>28718</td>\n",
       "      <td>4</td>\n",
       "      <td>0</td>\n",
       "    </tr>\n",
       "    <tr>\n",
       "      <th>28797</th>\n",
       "      <td>28797</td>\n",
       "      <td>..............</td>\n",
       "      <td>0</td>\n",
       "    </tr>\n",
       "    <tr>\n",
       "      <th>29388</th>\n",
       "      <td>29388</td>\n",
       "      <td>000000000</td>\n",
       "      <td>0</td>\n",
       "    </tr>\n",
       "    <tr>\n",
       "      <th>29888</th>\n",
       "      <td>29888</td>\n",
       "      <td>.....</td>\n",
       "      <td>0</td>\n",
       "    </tr>\n",
       "  </tbody>\n",
       "</table>\n",
       "</div>"
      ],
      "text/plain": [
       "       Unnamed: 0     dreams_text  Words_count\n",
       "3663         3663            ????            0\n",
       "4019         4019              ??            0\n",
       "4279         4279               .            0\n",
       "4340         4340               ,            0\n",
       "5063         5063               '            0\n",
       "5081         5081            \\r\\n            0\n",
       "6585         6585               ?            0\n",
       "6621         6621    ????????????            0\n",
       "6829         6829              --            0\n",
       "7069         7069             ...            0\n",
       "7686         7686            ....            0\n",
       "11442       11442         1111111            0\n",
       "11754       11754               0            0\n",
       "15067       15067               -            0\n",
       "15429       15429               =            0\n",
       "16686       16686         .......            0\n",
       "16956       16956       111111111            0\n",
       "28129       28129               /            0\n",
       "28718       28718               4            0\n",
       "28797       28797  ..............            0\n",
       "29388       29388       000000000            0\n",
       "29888       29888           .....            0"
      ]
     },
     "execution_count": 38,
     "metadata": {},
     "output_type": "execute_result"
    }
   ],
   "source": [
    "df[df['Words_count'] == 0]"
   ]
  },
  {
   "cell_type": "code",
   "execution_count": 39,
   "metadata": {},
   "outputs": [],
   "source": [
    "# Найдем тексты с 3-мя уникальными словами:"
   ]
  },
  {
   "cell_type": "code",
   "execution_count": 40,
   "metadata": {},
   "outputs": [
    {
     "data": {
      "text/html": [
       "<div>\n",
       "<style scoped>\n",
       "    .dataframe tbody tr th:only-of-type {\n",
       "        vertical-align: middle;\n",
       "    }\n",
       "\n",
       "    .dataframe tbody tr th {\n",
       "        vertical-align: top;\n",
       "    }\n",
       "\n",
       "    .dataframe thead th {\n",
       "        text-align: right;\n",
       "    }\n",
       "</style>\n",
       "<table border=\"1\" class=\"dataframe\">\n",
       "  <thead>\n",
       "    <tr style=\"text-align: right;\">\n",
       "      <th></th>\n",
       "      <th>Unnamed: 0</th>\n",
       "      <th>dreams_text</th>\n",
       "      <th>Words_count</th>\n",
       "    </tr>\n",
       "  </thead>\n",
       "  <tbody>\n",
       "    <tr>\n",
       "      <th>3574</th>\n",
       "      <td>3574</td>\n",
       "      <td>i was fired</td>\n",
       "      <td>3</td>\n",
       "    </tr>\n",
       "    <tr>\n",
       "      <th>3580</th>\n",
       "      <td>3580</td>\n",
       "      <td>got a promotion</td>\n",
       "      <td>3</td>\n",
       "    </tr>\n",
       "    <tr>\n",
       "      <th>3670</th>\n",
       "      <td>3670</td>\n",
       "      <td>Don't care to</td>\n",
       "      <td>3</td>\n",
       "    </tr>\n",
       "    <tr>\n",
       "      <th>3684</th>\n",
       "      <td>3684</td>\n",
       "      <td>i don't remember</td>\n",
       "      <td>3</td>\n",
       "    </tr>\n",
       "    <tr>\n",
       "      <th>3706</th>\n",
       "      <td>3706</td>\n",
       "      <td>No. Not really</td>\n",
       "      <td>3</td>\n",
       "    </tr>\n",
       "    <tr>\n",
       "      <th>...</th>\n",
       "      <td>...</td>\n",
       "      <td>...</td>\n",
       "      <td>...</td>\n",
       "    </tr>\n",
       "    <tr>\n",
       "      <th>30425</th>\n",
       "      <td>30425</td>\n",
       "      <td>none/don't remember</td>\n",
       "      <td>3</td>\n",
       "    </tr>\n",
       "    <tr>\n",
       "      <th>30431</th>\n",
       "      <td>30431</td>\n",
       "      <td>CANT REMEMBER ONE</td>\n",
       "      <td>3</td>\n",
       "    </tr>\n",
       "    <tr>\n",
       "      <th>30432</th>\n",
       "      <td>30432</td>\n",
       "      <td>I don't recall</td>\n",
       "      <td>3</td>\n",
       "    </tr>\n",
       "    <tr>\n",
       "      <th>30471</th>\n",
       "      <td>30471</td>\n",
       "      <td>don't recall dreams</td>\n",
       "      <td>3</td>\n",
       "    </tr>\n",
       "    <tr>\n",
       "      <th>30511</th>\n",
       "      <td>30511</td>\n",
       "      <td>Running from snakes</td>\n",
       "      <td>3</td>\n",
       "    </tr>\n",
       "  </tbody>\n",
       "</table>\n",
       "<p>402 rows × 3 columns</p>\n",
       "</div>"
      ],
      "text/plain": [
       "       Unnamed: 0          dreams_text  Words_count\n",
       "3574         3574          i was fired            3\n",
       "3580         3580      got a promotion            3\n",
       "3670         3670        Don't care to            3\n",
       "3684         3684     i don't remember            3\n",
       "3706         3706       No. Not really            3\n",
       "...           ...                  ...          ...\n",
       "30425       30425  none/don't remember            3\n",
       "30431       30431    CANT REMEMBER ONE            3\n",
       "30432       30432       I don't recall            3\n",
       "30471       30471  don't recall dreams            3\n",
       "30511       30511  Running from snakes            3\n",
       "\n",
       "[402 rows x 3 columns]"
      ]
     },
     "execution_count": 40,
     "metadata": {},
     "output_type": "execute_result"
    }
   ],
   "source": [
    "df[df['Words_count'] == 3]"
   ]
  },
  {
   "cell_type": "code",
   "execution_count": null,
   "metadata": {},
   "outputs": [],
   "source": []
  },
  {
   "cell_type": "code",
   "execution_count": 41,
   "metadata": {},
   "outputs": [],
   "source": [
    "# Найдем самые частотные слова в корпусе:"
   ]
  },
  {
   "cell_type": "code",
   "execution_count": 42,
   "metadata": {},
   "outputs": [],
   "source": [
    "# Удалим стоп-слова:"
   ]
  },
  {
   "cell_type": "code",
   "execution_count": 43,
   "metadata": {},
   "outputs": [],
   "source": [
    "from nltk.corpus import stopwords\n",
    "stop_words = stopwords.words(\"english\")"
   ]
  },
  {
   "cell_type": "code",
   "execution_count": 44,
   "metadata": {},
   "outputs": [],
   "source": [
    "stop_words.append(\"would\")"
   ]
  },
  {
   "cell_type": "code",
   "execution_count": 45,
   "metadata": {},
   "outputs": [],
   "source": [
    "stop_words.append(\"could\")"
   ]
  },
  {
   "cell_type": "code",
   "execution_count": 46,
   "metadata": {},
   "outputs": [],
   "source": [
    "stop_words.append(\"us\")"
   ]
  },
  {
   "cell_type": "code",
   "execution_count": 47,
   "metadata": {},
   "outputs": [],
   "source": [
    "clean_tokens_stop_remove = [[word for word in i if word not in stop_words] for i in clean_tokens]"
   ]
  },
  {
   "cell_type": "code",
   "execution_count": 48,
   "metadata": {},
   "outputs": [],
   "source": [
    "import itertools\n",
    "united_list=list(itertools.chain.from_iterable(clean_tokens_stop_remove))"
   ]
  },
  {
   "cell_type": "code",
   "execution_count": 49,
   "metadata": {},
   "outputs": [],
   "source": [
    "# Лемматизируем слова:"
   ]
  },
  {
   "cell_type": "code",
   "execution_count": 50,
   "metadata": {},
   "outputs": [],
   "source": [
    "lemmas_stop_remove = [lemmatizer.lemmatize(word, get_wordnet_pos(word)) for word in united_list]"
   ]
  },
  {
   "cell_type": "code",
   "execution_count": 51,
   "metadata": {},
   "outputs": [],
   "source": [
    "from nltk import FreqDist"
   ]
  },
  {
   "cell_type": "code",
   "execution_count": 52,
   "metadata": {},
   "outputs": [],
   "source": [
    "fdist = FreqDist(lemmas_stop_remove)"
   ]
  },
  {
   "cell_type": "code",
   "execution_count": 53,
   "metadata": {},
   "outputs": [
    {
     "data": {
      "text/plain": [
       "[('go', 22274),\n",
       " ('dream', 18837),\n",
       " ('get', 16203),\n",
       " ('like', 13677),\n",
       " ('one', 10724),\n",
       " ('say', 9423),\n",
       " ('come', 9061),\n",
       " ('see', 8851),\n",
       " ('remember', 8287),\n",
       " ('look', 8156),\n",
       " ('people', 8030),\n",
       " ('back', 7633),\n",
       " ('try', 7402),\n",
       " ('house', 6991),\n",
       " ('take', 6243),\n",
       " ('think', 5917),\n",
       " ('something', 5754),\n",
       " ('want', 5748),\n",
       " ('know', 5634),\n",
       " ('walk', 5590),\n",
       " ('around', 5438),\n",
       " ('time', 5384),\n",
       " ('room', 5372),\n",
       " ('start', 5244),\n",
       " ('make', 5180),\n",
       " ('friend', 4873),\n",
       " ('thing', 4869),\n",
       " ('really', 4599),\n",
       " ('car', 4487),\n",
       " ('talk', 4183)]"
      ]
     },
     "execution_count": 53,
     "metadata": {},
     "output_type": "execute_result"
    }
   ],
   "source": [
    "fdist.most_common(30)"
   ]
  },
  {
   "cell_type": "code",
   "execution_count": null,
   "metadata": {},
   "outputs": [],
   "source": []
  }
 ],
 "metadata": {
  "colab": {
   "collapsed_sections": [
    "ZESKs95y71Wy"
   ],
   "include_colab_link": true,
   "name": "18Nov2019.ipynb",
   "provenance": []
  },
  "kernelspec": {
   "display_name": "Python 3",
   "language": "python",
   "name": "python3"
  },
  "language_info": {
   "codemirror_mode": {
    "name": "ipython",
    "version": 3
   },
   "file_extension": ".py",
   "mimetype": "text/x-python",
   "name": "python",
   "nbconvert_exporter": "python",
   "pygments_lexer": "ipython3",
   "version": "3.8.5"
  }
 },
 "nbformat": 4,
 "nbformat_minor": 1
}
